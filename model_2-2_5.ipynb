{
 "cells": [
  {
   "cell_type": "code",
   "execution_count": 1,
   "metadata": {},
   "outputs": [
    {
     "name": "stderr",
     "output_type": "stream",
     "text": [
      "/home/ubuntu/anaconda3/envs/tensorflow_p36/lib/python3.6/site-packages/h5py/__init__.py:36: FutureWarning: Conversion of the second argument of issubdtype from `float` to `np.floating` is deprecated. In future, it will be treated as `np.float64 == np.dtype(float).type`.\n",
      "  from ._conv import register_converters as _register_converters\n",
      "/home/ubuntu/anaconda3/envs/tensorflow_p36/lib/python3.6/site-packages/matplotlib/__init__.py:962: UserWarning: Duplicate key in file \"/home/ubuntu/.config/matplotlib/matplotlibrc\", line #2\n",
      "  (fname, cnt))\n",
      "/home/ubuntu/anaconda3/envs/tensorflow_p36/lib/python3.6/site-packages/matplotlib/__init__.py:962: UserWarning: Duplicate key in file \"/home/ubuntu/.config/matplotlib/matplotlibrc\", line #3\n",
      "  (fname, cnt))\n"
     ]
    }
   ],
   "source": [
    "import os\n",
    "import model_generator as mg\n",
    "inIter = '5'"
   ]
  },
  {
   "cell_type": "code",
   "execution_count": 2,
   "metadata": {},
   "outputs": [],
   "source": [
    "model = mg.Model([300, 400, 40, 1], 'Model_2-2', \n",
    "                 dataFilename = 'Model_2-2/T_'+inIter+'.h5', \n",
    "                 paramFileName = 'Model_2-2/params_Model_2-2_'+inIter+'.pkl', r_discount=.95, c_discount=1)\n",
    "model.modelIter = 5\n",
    "model.paramFileName = 'Model_2-2/params_Model_2-2_5.pkl'\n",
    "# mg.saveHP(model)\n",
    "# model.setData()"
   ]
  },
  {
   "cell_type": "code",
   "execution_count": null,
   "metadata": {},
   "outputs": [],
   "source": [
    "model.TrainModel(num_epochs=30, minibatch_size=2048, learning_rate=0.0001)"
   ]
  },
  {
   "cell_type": "code",
   "execution_count": null,
   "metadata": {},
   "outputs": [],
   "source": [
    "os.system('git add .')\n",
    "os.system('git commit -m \"Model_2-2_'+str(model.modelIter)+' trained\"')\n",
    "os.system('git push origin master')"
   ]
  },
  {
   "cell_type": "code",
   "execution_count": null,
   "metadata": {},
   "outputs": [],
   "source": [
    "import zsyMultigame as multi\n",
    "import os\n",
    "outIter = '5'\n",
    "# multi.simulate('Model_2-2/params_Model_2-2_'+outIter+'.pkl', os.path.join('Model_2-2','T_'+outIter+'.h5'),\n",
    "#                numGames=100000, poolsize = 20, exploration_prob = 0.2)"
   ]
  },
  {
   "cell_type": "code",
   "execution_count": null,
   "metadata": {},
   "outputs": [],
   "source": [
    "os.system('git add .')\n",
    "os.system('git commit -m \"Model_2-2_'+outIter+' simulated\"')\n",
    "os.system('git push origin master')"
   ]
  },
  {
   "cell_type": "code",
   "execution_count": 3,
   "metadata": {},
   "outputs": [
    {
     "name": "stdout",
     "output_type": "stream",
     "text": [
      "VS Greedy: 65.000%\tVS Random: 95.300%\n",
      "Standard metric: 164.50\n"
     ]
    }
   ],
   "source": [
    "model.TestModel(1000)"
   ]
  },
  {
   "cell_type": "code",
   "execution_count": null,
   "metadata": {},
   "outputs": [],
   "source": [
    "model.TestModel(20000)"
   ]
  }
 ],
 "metadata": {
  "kernelspec": {
   "display_name": "Environment (conda_tensorflow_p36)",
   "language": "python",
   "name": "conda_tensorflow_p36"
  },
  "language_info": {
   "codemirror_mode": {
    "name": "ipython",
    "version": 3
   },
   "file_extension": ".py",
   "mimetype": "text/x-python",
   "name": "python",
   "nbconvert_exporter": "python",
   "pygments_lexer": "ipython3",
   "version": "3.6.4"
  }
 },
 "nbformat": 4,
 "nbformat_minor": 2
}
