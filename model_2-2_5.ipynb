{
 "cells": [
  {
   "cell_type": "code",
   "execution_count": 1,
   "metadata": {},
   "outputs": [
    {
     "name": "stderr",
     "output_type": "stream",
     "text": [
      "/home/ubuntu/anaconda3/envs/tensorflow_p36/lib/python3.6/site-packages/h5py/__init__.py:36: FutureWarning: Conversion of the second argument of issubdtype from `float` to `np.floating` is deprecated. In future, it will be treated as `np.float64 == np.dtype(float).type`.\n",
      "  from ._conv import register_converters as _register_converters\n",
      "/home/ubuntu/anaconda3/envs/tensorflow_p36/lib/python3.6/site-packages/matplotlib/__init__.py:962: UserWarning: Duplicate key in file \"/home/ubuntu/.config/matplotlib/matplotlibrc\", line #2\n",
      "  (fname, cnt))\n",
      "/home/ubuntu/anaconda3/envs/tensorflow_p36/lib/python3.6/site-packages/matplotlib/__init__.py:962: UserWarning: Duplicate key in file \"/home/ubuntu/.config/matplotlib/matplotlibrc\", line #3\n",
      "  (fname, cnt))\n"
     ]
    }
   ],
   "source": [
    "import model_generator as mg\n",
    "model = mg.Model([300, 400, 40, 1], 'Model_2-2', \n",
    "                 dataFilename = 'Model_2-2/T_4.h5', \n",
    "                 paramFileName = 'Model_2-2/params_Model_2-2_4.pkl', r_discount=.95, c_discount=1)\n",
    "mg.saveHP(model)\n",
    "model.setData()"
   ]
  },
  {
   "cell_type": "code",
   "execution_count": null,
   "metadata": {},
   "outputs": [
    {
     "name": "stdout",
     "output_type": "stream",
     "text": [
      "num minibatches:1544\n",
      "\tEpoch time:105 seconds\n",
      "Cost after epoch 0: 0.817365\n",
      "\tDev error (no dropout): 0.788343\n",
      "Cost after epoch 1: 0.801497\n",
      "\tDev error (no dropout): 0.785838\n",
      "Cost after epoch 2: 0.793003\n",
      "\tDev error (no dropout): 0.778689\n",
      "Cost after epoch 3: 0.787804\n",
      "\tDev error (no dropout): 0.775359\n",
      "Cost after epoch 4: 0.782960\n",
      "\tDev error (no dropout): 0.773893\n",
      "Cost after epoch 5: 0.779397\n",
      "\tDev error (no dropout): 0.768949\n",
      "Cost after epoch 6: 0.776362\n",
      "\tDev error (no dropout): 0.768417\n",
      "Cost after epoch 7: 0.774081\n",
      "\tDev error (no dropout): 0.770851\n",
      "Cost after epoch 8: 0.771699\n",
      "\tDev error (no dropout): 0.767505\n",
      "Cost after epoch 9: 0.769296\n",
      "\tDev error (no dropout): 0.766129\n",
      "\tAve epoch time: 104.480288\n",
      "\t100 epochs will take 2:54:08.028769\n",
      "Cost after epoch 10: 0.767662\n",
      "\tDev error (no dropout): 0.766159\n",
      "Cost after epoch 20: 0.753414\n",
      "\tDev error (no dropout): 0.757322\n"
     ]
    }
   ],
   "source": [
    "model.TrainModel(num_epochs=30, minibatch_size=2048, learning_rate=0.0001)"
   ]
  },
  {
   "cell_type": "code",
   "execution_count": null,
   "metadata": {},
   "outputs": [],
   "source": [
    "import zsyMultigame as multi\n",
    "import os\n",
    "multi.simulate(model.paramFileName, os.path.join(model.home,'T_'+str(model.modelIter)+'.h5'),\n",
    "               numGames=100000, poolsize = 20, exploration_prob = 0.2)"
   ]
  },
  {
   "cell_type": "code",
   "execution_count": null,
   "metadata": {},
   "outputs": [],
   "source": [
    "model.TestModel(1000)"
   ]
  },
  {
   "cell_type": "code",
   "execution_count": null,
   "metadata": {},
   "outputs": [],
   "source": [
    "model.TestModel(20000)"
   ]
  }
 ],
 "metadata": {
  "kernelspec": {
   "display_name": "Environment (conda_tensorflow_p36)",
   "language": "python",
   "name": "conda_tensorflow_p36"
  },
  "language_info": {
   "codemirror_mode": {
    "name": "ipython",
    "version": 3
   },
   "file_extension": ".py",
   "mimetype": "text/x-python",
   "name": "python",
   "nbconvert_exporter": "python",
   "pygments_lexer": "ipython3",
   "version": "3.6.4"
  }
 },
 "nbformat": 4,
 "nbformat_minor": 2
}
