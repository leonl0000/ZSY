{
 "cells": [
  {
   "cell_type": "code",
   "execution_count": 1,
   "metadata": {},
   "outputs": [
    {
     "name": "stderr",
     "output_type": "stream",
     "text": [
      "/home/ubuntu/anaconda3/envs/tensorflow_p36/lib/python3.6/site-packages/h5py/__init__.py:36: FutureWarning: Conversion of the second argument of issubdtype from `float` to `np.floating` is deprecated. In future, it will be treated as `np.float64 == np.dtype(float).type`.\n",
      "  from ._conv import register_converters as _register_converters\n",
      "/home/ubuntu/anaconda3/envs/tensorflow_p36/lib/python3.6/site-packages/matplotlib/__init__.py:962: UserWarning: Duplicate key in file \"/home/ubuntu/.config/matplotlib/matplotlibrc\", line #2\n",
      "  (fname, cnt))\n",
      "/home/ubuntu/anaconda3/envs/tensorflow_p36/lib/python3.6/site-packages/matplotlib/__init__.py:962: UserWarning: Duplicate key in file \"/home/ubuntu/.config/matplotlib/matplotlibrc\", line #3\n",
      "  (fname, cnt))\n"
     ]
    }
   ],
   "source": [
    "import model_generator as mg\n",
    "model = mg.Model([300, 400, 40, 1], 'Model_2-1',  r_discount=.95, c_discount=1)\n",
    "mg.saveHP(model)\n",
    "model.setData()"
   ]
  },
  {
   "cell_type": "code",
   "execution_count": 2,
   "metadata": {},
   "outputs": [
    {
     "name": "stdout",
     "output_type": "stream",
     "text": [
      "num minibatches:3662\n",
      "\tEpoch time:36 seconds\n",
      "Cost after epoch 0: 0.847003\n",
      "\tDev error (no dropout): 0.760831\n",
      "Cost after epoch 1: 0.757843\n",
      "\tDev error (no dropout): 0.746202\n",
      "Cost after epoch 2: 0.743433\n",
      "\tDev error (no dropout): 0.737810\n",
      "Cost after epoch 3: 0.734165\n",
      "\tDev error (no dropout): 0.731135\n",
      "Cost after epoch 4: 0.727741\n",
      "\tDev error (no dropout): 0.728370\n",
      "Cost after epoch 5: 0.723238\n",
      "\tDev error (no dropout): 0.725688\n",
      "Cost after epoch 6: 0.718951\n",
      "\tDev error (no dropout): 0.724468\n",
      "Cost after epoch 7: 0.716074\n",
      "\tDev error (no dropout): 0.723073\n",
      "Cost after epoch 8: 0.713885\n",
      "\tDev error (no dropout): 0.722740\n",
      "Cost after epoch 9: 0.711724\n",
      "\tDev error (no dropout): 0.721188\n",
      "\tAve epoch time: 36.045904\n",
      "\t100 epochs will take 1:00:04.590359\n",
      "Cost after epoch 10: 0.710141\n",
      "\tDev error (no dropout): 0.721624\n",
      "Parameters have been trained!\n",
      "Train cost (No dropout): 0.69101876\n",
      "Test cost (No dropout): 0.7190738\n"
     ]
    },
    {
     "data": {
      "image/png": "[encoded data removed]",
      "text/plain": [
       "<matplotlib.figure.Figure at 0x7fb082348c50>"
      ]
     },
     "metadata": {},
     "output_type": "display_data"
    }
   ],
   "source": [
    "model.TrainModel(num_epochs=20, learning_rate=0.0001)"
   ]
  },
  {
   "cell_type": "code",
   "execution_count": 3,
   "metadata": {},
   "outputs": [
    {
     "name": "stdout",
     "output_type": "stream",
     "text": [
      "VS Greedy: 59.830%\tVS Random: 93.860%\n",
      "Standard metric: 246.64\n"
     ]
    }
   ],
   "source": [
    "model.TestModel(10000)"
   ]
  },
  {
   "cell_type": "code",
   "execution_count": null,
   "metadata": {},
   "outputs": [],
   "source": []
  }
 ],
 "metadata": {
  "kernelspec": {
   "display_name": "Environment (conda_tensorflow_p36)",
   "language": "python",
   "name": "conda_tensorflow_p36"
  },
  "language_info": {
   "codemirror_mode": {
    "name": "ipython",
    "version": 3
   },
   "file_extension": ".py",
   "mimetype": "text/x-python",
   "name": "python",
   "nbconvert_exporter": "python",
   "pygments_lexer": "ipython3",
   "version": "3.6.4"
  }
 },
 "nbformat": 4,
 "nbformat_minor": 2
}
