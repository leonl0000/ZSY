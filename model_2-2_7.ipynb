{
 "cells": [
  {
   "cell_type": "code",
   "execution_count": 1,
   "metadata": {},
   "outputs": [
    {
     "name": "stderr",
     "output_type": "stream",
     "text": [
      "/home/ubuntu/anaconda3/envs/tensorflow_p36/lib/python3.6/site-packages/h5py/__init__.py:36: FutureWarning: Conversion of the second argument of issubdtype from `float` to `np.floating` is deprecated. In future, it will be treated as `np.float64 == np.dtype(float).type`.\n",
      "  from ._conv import register_converters as _register_converters\n",
      "/home/ubuntu/anaconda3/envs/tensorflow_p36/lib/python3.6/site-packages/matplotlib/__init__.py:962: UserWarning: Duplicate key in file \"/home/ubuntu/.config/matplotlib/matplotlibrc\", line #2\n",
      "  (fname, cnt))\n",
      "/home/ubuntu/anaconda3/envs/tensorflow_p36/lib/python3.6/site-packages/matplotlib/__init__.py:962: UserWarning: Duplicate key in file \"/home/ubuntu/.config/matplotlib/matplotlibrc\", line #3\n",
      "  (fname, cnt))\n"
     ]
    }
   ],
   "source": [
    "import os\n",
    "import model_generator as mg\n",
    "inIter = '6'"
   ]
  },
  {
   "cell_type": "code",
   "execution_count": 2,
   "metadata": {},
   "outputs": [],
   "source": [
    "model = mg.Model([300, 400, 40, 1], 'Model_2-2', \n",
    "                 dataFilename = 'Model_2-2/T_'+inIter+'.h5', \n",
    "                 paramFileName = 'Model_2-2/params_Model_2-2_'+inIter+'.pkl', r_discount=.95, c_discount=1)\n",
    "mg.saveHP(model)\n",
    "model.setData()"
   ]
  },
  {
   "cell_type": "code",
   "execution_count": 3,
   "metadata": {},
   "outputs": [
    {
     "name": "stdout",
     "output_type": "stream",
     "text": [
      "num minibatches:1506\n",
      "\tEpoch time:21 seconds\n",
      "Cost after epoch 0: 0.776961\n",
      "\tDev error (no dropout): 0.749730\n",
      "Cost after epoch 1: 0.765826\n",
      "\tDev error (no dropout): 0.743924\n",
      "Cost after epoch 2: 0.761409\n",
      "\tDev error (no dropout): 0.739331\n",
      "Cost after epoch 3: 0.757259\n",
      "\tDev error (no dropout): 0.734223\n",
      "Cost after epoch 4: 0.754650\n",
      "\tDev error (no dropout): 0.731946\n",
      "Cost after epoch 5: 0.750828\n",
      "\tDev error (no dropout): 0.729515\n",
      "Cost after epoch 6: 0.749581\n",
      "\tDev error (no dropout): 0.728077\n",
      "Cost after epoch 7: 0.747117\n",
      "\tDev error (no dropout): 0.727588\n",
      "Cost after epoch 8: 0.744910\n",
      "\tDev error (no dropout): 0.729817\n",
      "Cost after epoch 9: 0.743337\n",
      "\tDev error (no dropout): 0.727133\n",
      "\tAve epoch time: 21.506042\n",
      "\t100 epochs will take 0:35:50.604184\n",
      "Cost after epoch 10: 0.741662\n",
      "\tDev error (no dropout): 0.724585\n",
      "Cost after epoch 20: 0.730361\n",
      "\tDev error (no dropout): 0.719988\n",
      "Parameters have been trained!\n",
      "Train cost (No dropout): 0.7027445\n",
      "Test cost (No dropout): 0.71972775\n"
     ]
    },
    {
     "data": {
      "image/png": "[encoded data removed]",
      "text/plain": [
       "<matplotlib.figure.Figure at 0x7f509e9406a0>"
      ]
     },
     "metadata": {},
     "output_type": "display_data"
    }
   ],
   "source": [
    "model.TrainModel(num_epochs=30, minibatch_size=2048, learning_rate=0.0001)"
   ]
  },
  {
   "cell_type": "code",
   "execution_count": 4,
   "metadata": {},
   "outputs": [
    {
     "name": "stdout",
     "output_type": "stream",
     "text": [
      "VS Greedy: 62.800%\tVS Random: 94.700%\n",
      "Standard metric: 197.16\n"
     ]
    }
   ],
   "source": [
    "model.TestModel(1000)"
   ]
  },
  {
   "cell_type": "code",
   "execution_count": 6,
   "metadata": {},
   "outputs": [
    {
     "name": "stdout",
     "output_type": "stream",
     "text": [
      "VS Greedy: 62.475%\tVS Random: 94.050%\n",
      "Standard metric: 223.27\n"
     ]
    }
   ],
   "source": [
    "model.TestModel(20000)"
   ]
  },
  {
   "cell_type": "code",
   "execution_count": null,
   "metadata": {},
   "outputs": [],
   "source": []
  },
  {
   "cell_type": "code",
   "execution_count": null,
   "metadata": {},
   "outputs": [],
   "source": [
    "os.system('git add .')\n",
    "os.system('git commit -m \"Model_2-2_'+str(model.modelIter)+' trained\"')\n",
    "os.system('git pull')\n",
    "os.system('git push origin master')"
   ]
  },
  {
   "cell_type": "code",
   "execution_count": null,
   "metadata": {},
   "outputs": [],
   "source": [
    "import zsyMultigame as multi\n",
    "import os\n",
    "outIter = ''\n",
    "multi.simulate('Model_2-2/params_Model_2-2_'+outIter+'.pkl', os.path.join('Model_2-2','T_'+outIter+'.h5'),\n",
    "               numGames=100000, poolsize = 20, exploration_prob = 0.2)"
   ]
  },
  {
   "cell_type": "code",
   "execution_count": null,
   "metadata": {},
   "outputs": [],
   "source": [
    "os.system('git add .')\n",
    "os.system('git commit -m \"Model_2-2_'+outIter+' simulated\"')\n",
    "os.system('git pull')\n",
    "os.system('git push origin master')"
   ]
  }
 ],
 "metadata": {
  "kernelspec": {
   "display_name": "Environment (conda_tensorflow_p36)",
   "language": "python",
   "name": "conda_tensorflow_p36"
  },
  "language_info": {
   "codemirror_mode": {
    "name": "ipython",
    "version": 3
   },
   "file_extension": ".py",
   "mimetype": "text/x-python",
   "name": "python",
   "nbconvert_exporter": "python",
   "pygments_lexer": "ipython3",
   "version": "3.6.4"
  }
 },
 "nbformat": 4,
 "nbformat_minor": 2
}
