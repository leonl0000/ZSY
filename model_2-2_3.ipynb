{
 "cells": [
  {
   "cell_type": "code",
   "execution_count": 1,
   "metadata": {},
   "outputs": [
    {
     "name": "stderr",
     "output_type": "stream",
     "text": [
      "/home/ubuntu/anaconda3/envs/tensorflow_p36/lib/python3.6/site-packages/h5py/__init__.py:36: FutureWarning: Conversion of the second argument of issubdtype from `float` to `np.floating` is deprecated. In future, it will be treated as `np.float64 == np.dtype(float).type`.\n",
      "  from ._conv import register_converters as _register_converters\n",
      "/home/ubuntu/anaconda3/envs/tensorflow_p36/lib/python3.6/site-packages/matplotlib/__init__.py:962: UserWarning: Duplicate key in file \"/home/ubuntu/.config/matplotlib/matplotlibrc\", line #2\n",
      "  (fname, cnt))\n",
      "/home/ubuntu/anaconda3/envs/tensorflow_p36/lib/python3.6/site-packages/matplotlib/__init__.py:962: UserWarning: Duplicate key in file \"/home/ubuntu/.config/matplotlib/matplotlibrc\", line #3\n",
      "  (fname, cnt))\n"
     ]
    }
   ],
   "source": [
    "import model_generator as mg\n",
    "model = mg.Model([300, 400, 40, 1], 'Model_2-2', \n",
    "                 dataFilename = 'Model_2-2/T_2.h5', \n",
    "                 paramFileName = 'Model_2-2/params_Model_2-2_2.pkl', r_discount=.95, c_discount=1)\n",
    "mg.saveHP(model)\n",
    "model.setData()"
   ]
  },
  {
   "cell_type": "code",
   "execution_count": 2,
   "metadata": {},
   "outputs": [
    {
     "name": "stdout",
     "output_type": "stream",
     "text": [
      "num minibatches:1494\n",
      "\tEpoch time:37 seconds\n",
      "Cost after epoch 0: 0.819677\n",
      "\tDev error (no dropout): 0.805377\n",
      "Cost after epoch 1: 0.795886\n",
      "\tDev error (no dropout): 0.797361\n",
      "Cost after epoch 2: 0.787839\n",
      "\tDev error (no dropout): 0.787907\n",
      "Cost after epoch 3: 0.781712\n",
      "\tDev error (no dropout): 0.784750\n",
      "Cost after epoch 4: 0.777744\n",
      "\tDev error (no dropout): 0.781921\n",
      "Cost after epoch 5: 0.772547\n",
      "\tDev error (no dropout): 0.776681\n",
      "Cost after epoch 6: 0.768869\n",
      "\tDev error (no dropout): 0.778630\n",
      "Cost after epoch 7: 0.765456\n",
      "\tDev error (no dropout): 0.773633\n",
      "Cost after epoch 8: 0.762956\n",
      "\tDev error (no dropout): 0.770146\n",
      "Cost after epoch 9: 0.760312\n",
      "\tDev error (no dropout): 0.767198\n",
      "\tAve epoch time: 37.498168\n",
      "\t100 epochs will take 1:02:29.816847\n",
      "Cost after epoch 10: 0.757209\n",
      "\tDev error (no dropout): 0.765268\n",
      "Cost after epoch 20: 0.739248\n",
      "\tDev error (no dropout): 0.757599\n",
      "Parameters have been trained!\n",
      "Train cost (No dropout): 0.7093788\n",
      "Test cost (No dropout): 0.7521118\n"
     ]
    },
    {
     "data": {
      "image/png": "[encoded data removed]",
      "text/plain": [
       "<matplotlib.figure.Figure at 0x7f6a1817ee80>"
      ]
     },
     "metadata": {},
     "output_type": "display_data"
    }
   ],
   "source": [
    "model.TrainModel(num_epochs=30, minibatch_size=2048, learning_rate=0.0001)"
   ]
  },
  {
   "cell_type": "code",
   "execution_count": null,
   "metadata": {},
   "outputs": [],
   "source": [
    "model.TestModel(10000)"
   ]
  },
  {
   "cell_type": "code",
   "execution_count": 4,
   "metadata": {},
   "outputs": [
    {
     "name": "stdout",
     "output_type": "stream",
     "text": [
      "\n",
      " X_A shape:(300, 1573819)\n"
     ]
    }
   ],
   "source": [
    "import zsyMultigame as multi\n",
    "import os\n",
    "multi.simulate(model.paramFileName, os.path.join(model.home,'T_'+str(model.modelIter)+'.h5'),\n",
    "               numGames=100000, poolsize = 20)"
   ]
  }
 ],
 "metadata": {
  "kernelspec": {
   "display_name": "Environment (conda_tensorflow_p36)",
   "language": "python",
   "name": "conda_tensorflow_p36"
  },
  "language_info": {
   "codemirror_mode": {
    "name": "ipython",
    "version": 3
   },
   "file_extension": ".py",
   "mimetype": "text/x-python",
   "name": "python",
   "nbconvert_exporter": "python",
   "pygments_lexer": "ipython3",
   "version": "3.6.4"
  }
 },
 "nbformat": 4,
 "nbformat_minor": 2
}
