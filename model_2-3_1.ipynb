{
 "cells": [
  {
   "cell_type": "code",
   "execution_count": 1,
   "metadata": {},
   "outputs": [
    {
     "name": "stderr",
     "output_type": "stream",
     "text": [
      "/home/ubuntu/anaconda3/envs/tensorflow_p36/lib/python3.6/site-packages/h5py/__init__.py:36: FutureWarning: Conversion of the second argument of issubdtype from `float` to `np.floating` is deprecated. In future, it will be treated as `np.float64 == np.dtype(float).type`.\n",
      "  from ._conv import register_converters as _register_converters\n",
      "/home/ubuntu/anaconda3/envs/tensorflow_p36/lib/python3.6/site-packages/matplotlib/__init__.py:962: UserWarning: Duplicate key in file \"/home/ubuntu/.config/matplotlib/matplotlibrc\", line #2\n",
      "  (fname, cnt))\n",
      "/home/ubuntu/anaconda3/envs/tensorflow_p36/lib/python3.6/site-packages/matplotlib/__init__.py:962: UserWarning: Duplicate key in file \"/home/ubuntu/.config/matplotlib/matplotlibrc\", line #3\n",
      "  (fname, cnt))\n"
     ]
    }
   ],
   "source": [
    "import os\n",
    "import model_generator as mg\n",
    "inIter = '0'"
   ]
  },
  {
   "cell_type": "code",
   "execution_count": 2,
   "metadata": {},
   "outputs": [],
   "source": [
    "model = mg.Model([300, 200, 40, 1], 'Model_2-3', \n",
    "                 dataFilename = 'Model_2-3/T_'+inIter+'.h5', \n",
    "                 paramFileName = 'Parameters_M1_100epochs.pkl', r_discount=.90, c_discount=1)\n",
    "mg.saveHP(model)\n",
    "model.setData()"
   ]
  },
  {
   "cell_type": "code",
   "execution_count": 3,
   "metadata": {},
   "outputs": [
    {
     "name": "stdout",
     "output_type": "stream",
     "text": [
      "num minibatches:1213\n",
      "\tEpoch time:15 seconds\n",
      "Cost after epoch 0: 0.612859\n",
      "\tDev error (no dropout): 0.557216\n",
      "Cost after epoch 1: 0.569023\n",
      "\tDev error (no dropout): 0.548788\n",
      "Cost after epoch 2: 0.562614\n",
      "\tDev error (no dropout): 0.544124\n",
      "Cost after epoch 3: 0.559711\n",
      "\tDev error (no dropout): 0.542014\n",
      "Cost after epoch 4: 0.557090\n",
      "\tDev error (no dropout): 0.539794\n",
      "Cost after epoch 5: 0.554889\n",
      "\tDev error (no dropout): 0.538811\n",
      "Cost after epoch 6: 0.554064\n",
      "\tDev error (no dropout): 0.537461\n",
      "Cost after epoch 7: 0.552149\n",
      "\tDev error (no dropout): 0.536307\n",
      "Cost after epoch 8: 0.552080\n",
      "\tDev error (no dropout): 0.535490\n",
      "Cost after epoch 9: 0.550819\n",
      "\tDev error (no dropout): 0.535049\n",
      "\tAve epoch time: 15.591476\n",
      "\t100 epochs will take 0:25:59.147589\n",
      "Cost after epoch 10: 0.549949\n",
      "\tDev error (no dropout): 0.533844\n",
      "Cost after epoch 20: 0.544685\n",
      "\tDev error (no dropout): 0.531413\n",
      "Cost after epoch 30: 0.541778\n",
      "\tDev error (no dropout): 0.530296\n",
      "Cost after epoch 40: 0.539889\n",
      "\tDev error (no dropout): 0.528492\n",
      "Parameters have been trained!\n",
      "Train cost (No dropout): 0.5300538\n",
      "Test cost (No dropout): 0.52722067\n"
     ]
    },
    {
     "data": {
      "image/png": "[encoded data removed]",
      "text/plain": [
       "<matplotlib.figure.Figure at 0x7f8afffbec18>"
      ]
     },
     "metadata": {},
     "output_type": "display_data"
    }
   ],
   "source": [
    "model.TrainModel(num_epochs=50, minibatch_size=2048, learning_rate=0.0001)"
   ]
  },
  {
   "cell_type": "code",
   "execution_count": 4,
   "metadata": {},
   "outputs": [
    {
     "data": {
      "text/plain": [
       "0"
      ]
     },
     "execution_count": 4,
     "metadata": {},
     "output_type": "execute_result"
    }
   ],
   "source": [
    "os.system('git add .')\n",
    "os.system('git commit -m \"Model_2-3_'+str(model.modelIter)+' trained\"')\n",
    "os.system('git pull')\n",
    "os.system('git push origin master')"
   ]
  },
  {
   "cell_type": "code",
   "execution_count": 5,
   "metadata": {},
   "outputs": [
    {
     "name": "stdout",
     "output_type": "stream",
     "text": [
      "VS Greedy: 54.000%\tVS Random: 92.000%\n",
      "Standard metric: 368.00\n"
     ]
    }
   ],
   "source": [
    "model.TestModel(1000)"
   ]
  },
  {
   "cell_type": "code",
   "execution_count": 6,
   "metadata": {},
   "outputs": [
    {
     "name": "stdout",
     "output_type": "stream",
     "text": [
      "VS Greedy: 56.155%\tVS Random: 95.465%\n",
      "Standard metric: 198.84\n"
     ]
    }
   ],
   "source": [
    "model.TestModel(20000)"
   ]
  },
  {
   "cell_type": "code",
   "execution_count": null,
   "metadata": {},
   "outputs": [],
   "source": []
  },
  {
   "cell_type": "code",
   "execution_count": null,
   "metadata": {},
   "outputs": [],
   "source": [
    "import zsyMultigame as multi\n",
    "import os\n",
    "outIter = '1'\n",
    "multi.simulate('Model_2-3/params_Model_2-3_'+outIter+'.pkl', os.path.join('Model_2-3','T_'+outIter+'.h5'),\n",
    "               numGames=100000, poolsize = 20, exploration_prob = 0.2)"
   ]
  },
  {
   "cell_type": "code",
   "execution_count": null,
   "metadata": {},
   "outputs": [],
   "source": [
    "os.system('git add .')\n",
    "os.system('git commit -m \"Model_2-3_'+outIter+' simulated\"')\n",
    "os.system('git pull')\n",
    "os.system('git push origin master')"
   ]
  }
 ],
 "metadata": {
  "kernelspec": {
   "display_name": "Environment (conda_tensorflow_p36)",
   "language": "python",
   "name": "conda_tensorflow_p36"
  },
  "language_info": {
   "codemirror_mode": {
    "name": "ipython",
    "version": 3
   },
   "file_extension": ".py",
   "mimetype": "text/x-python",
   "name": "python",
   "nbconvert_exporter": "python",
   "pygments_lexer": "ipython3",
   "version": "3.6.4"
  }
 },
 "nbformat": 4,
 "nbformat_minor": 2
}
