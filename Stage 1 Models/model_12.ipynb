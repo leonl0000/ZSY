{
 "cells": [
  {
   "cell_type": "code",
   "execution_count": 1,
   "metadata": {},
   "outputs": [
    {
     "name": "stderr",
     "output_type": "stream",
     "text": [
      "/home/ubuntu/anaconda3/envs/tensorflow_p36/lib/python3.6/site-packages/h5py/__init__.py:36: FutureWarning: Conversion of the second argument of issubdtype from `float` to `np.floating` is deprecated. In future, it will be treated as `np.float64 == np.dtype(float).type`.\n",
      "  from ._conv import register_converters as _register_converters\n",
      "/home/ubuntu/anaconda3/envs/tensorflow_p36/lib/python3.6/site-packages/matplotlib/__init__.py:962: UserWarning: Duplicate key in file \"/home/ubuntu/.config/matplotlib/matplotlibrc\", line #2\n",
      "  (fname, cnt))\n",
      "/home/ubuntu/anaconda3/envs/tensorflow_p36/lib/python3.6/site-packages/matplotlib/__init__.py:962: UserWarning: Duplicate key in file \"/home/ubuntu/.config/matplotlib/matplotlibrc\", line #3\n",
      "  (fname, cnt))\n"
     ]
    }
   ],
   "source": [
    "import model_generator as mg\n",
    "model = mg.Model([300, 400, 40, 1], 'Model12',  r_discount=.8, c_discount=1)\n",
    "mg.saveHP(model)\n",
    "model.setData()"
   ]
  },
  {
   "cell_type": "code",
   "execution_count": 2,
   "metadata": {},
   "outputs": [
    {
     "name": "stdout",
     "output_type": "stream",
     "text": [
      "num minibatches:3662\n",
      "\tEpoch time:57 seconds\n",
      "Cost after epoch 0: 0.707087\n",
      "\tDev error (no dropout): 0.636634\n",
      "Cost after epoch 1: 0.639011\n",
      "\tDev error (no dropout): 0.629734\n",
      "Cost after epoch 2: 0.633559\n",
      "\tDev error (no dropout): 0.628359\n",
      "Cost after epoch 3: 0.630528\n",
      "\tDev error (no dropout): 0.626475\n",
      "Cost after epoch 4: 0.628744\n",
      "\tDev error (no dropout): 0.626298\n",
      "Cost after epoch 5: 0.627103\n",
      "\tDev error (no dropout): 0.624849\n",
      "Cost after epoch 6: 0.625899\n",
      "\tDev error (no dropout): 0.624267\n",
      "Cost after epoch 7: 0.624668\n",
      "\tDev error (no dropout): 0.622398\n",
      "Cost after epoch 8: 0.623303\n",
      "\tDev error (no dropout): 0.621911\n",
      "Cost after epoch 9: 0.622252\n",
      "\tDev error (no dropout): 0.621491\n",
      "Parameters have been trained!\n",
      "Train cost (No dropout): 0.6186971\n",
      "Test cost (No dropout): 0.62149084\n"
     ]
    },
    {
     "data": {
      "image/png": "[encoded data removed]",
      "text/plain": [
       "<matplotlib.figure.Figure at 0x7f83b55d9a90>"
      ]
     },
     "metadata": {},
     "output_type": "display_data"
    }
   ],
   "source": [
    "model.TrainModel(num_epochs=10, learning_rate=0.0001)"
   ]
  },
  {
   "cell_type": "code",
   "execution_count": 4,
   "metadata": {},
   "outputs": [
    {
     "name": "stdout",
     "output_type": "stream",
     "text": [
      "VS Greedy: 56.900%\tVS Random: 92.500%\n",
      "Standard metric: 323.25\n"
     ]
    }
   ],
   "source": [
    "import zsyGame as zsy\n",
    "zsy.stdTest(model.paramFileName, 1000)"
   ]
  }
 ],
 "metadata": {
  "kernelspec": {
   "display_name": "Environment (conda_tensorflow_p36)",
   "language": "python",
   "name": "conda_tensorflow_p36"
  },
  "language_info": {
   "codemirror_mode": {
    "name": "ipython",
    "version": 3
   },
   "file_extension": ".py",
   "mimetype": "text/x-python",
   "name": "python",
   "nbconvert_exporter": "python",
   "pygments_lexer": "ipython3",
   "version": "3.6.4"
  }
 },
 "nbformat": 4,
 "nbformat_minor": 2
}
