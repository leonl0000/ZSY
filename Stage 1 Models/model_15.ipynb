{
 "cells": [
  {
   "cell_type": "code",
   "execution_count": 1,
   "metadata": {},
   "outputs": [
    {
     "name": "stderr",
     "output_type": "stream",
     "text": [
      "/home/ubuntu/anaconda3/envs/tensorflow_p36/lib/python3.6/site-packages/h5py/__init__.py:36: FutureWarning: Conversion of the second argument of issubdtype from `float` to `np.floating` is deprecated. In future, it will be treated as `np.float64 == np.dtype(float).type`.\n",
      "  from ._conv import register_converters as _register_converters\n",
      "/home/ubuntu/anaconda3/envs/tensorflow_p36/lib/python3.6/site-packages/matplotlib/__init__.py:962: UserWarning: Duplicate key in file \"/home/ubuntu/.config/matplotlib/matplotlibrc\", line #2\n",
      "  (fname, cnt))\n",
      "/home/ubuntu/anaconda3/envs/tensorflow_p36/lib/python3.6/site-packages/matplotlib/__init__.py:962: UserWarning: Duplicate key in file \"/home/ubuntu/.config/matplotlib/matplotlibrc\", line #3\n",
      "  (fname, cnt))\n"
     ]
    }
   ],
   "source": [
    "import model_generator as mg\n",
    "model = mg.Model([300, 400, 40, 1], 'Model15',  r_discount=.95, c_discount=.95)\n",
    "mg.saveHP(model)\n",
    "model.setData()"
   ]
  },
  {
   "cell_type": "code",
   "execution_count": 2,
   "metadata": {},
   "outputs": [
    {
     "name": "stdout",
     "output_type": "stream",
     "text": [
      "num minibatches:3662\n",
      "\tEpoch time:36 seconds\n",
      "Cost after epoch 0: 0.567281\n",
      "\tDev error (no dropout): 0.485036\n",
      "Cost after epoch 1: 0.486276\n",
      "\tDev error (no dropout): 0.475481\n",
      "Cost after epoch 2: 0.476382\n",
      "\tDev error (no dropout): 0.470434\n",
      "Cost after epoch 3: 0.470360\n",
      "\tDev error (no dropout): 0.466877\n",
      "Cost after epoch 4: 0.465110\n",
      "\tDev error (no dropout): 0.462518\n",
      "Cost after epoch 5: 0.461279\n",
      "\tDev error (no dropout): 0.461113\n",
      "Cost after epoch 6: 0.458469\n",
      "\tDev error (no dropout): 0.457817\n",
      "Cost after epoch 7: 0.456059\n",
      "\tDev error (no dropout): 0.458556\n",
      "Cost after epoch 8: 0.453970\n",
      "\tDev error (no dropout): 0.457360\n",
      "Cost after epoch 9: 0.452139\n",
      "\tDev error (no dropout): 0.456573\n",
      "Parameters have been trained!\n",
      "Train cost (No dropout): 0.4459517\n",
      "Test cost (No dropout): 0.4565727\n"
     ]
    },
    {
     "data": {
      "image/png": "[encoded data removed]",
      "text/plain": [
       "<matplotlib.figure.Figure at 0x7f2af9658c50>"
      ]
     },
     "metadata": {},
     "output_type": "display_data"
    }
   ],
   "source": [
    "model.TrainModel(num_epochs=10, learning_rate=0.0001)"
   ]
  },
  {
   "cell_type": "code",
   "execution_count": 5,
   "metadata": {},
   "outputs": [
    {
     "name": "stdout",
     "output_type": "stream",
     "text": [
      "VS Greedy: 60.350%\tVS Random: 94.490%\n",
      "Standard metric: 218.47\n"
     ]
    }
   ],
   "source": [
    "import zsyGame as zsy\n",
    "zsy.stdTest(model.paramFileName, 10000)"
   ]
  }
 ],
 "metadata": {
  "kernelspec": {
   "display_name": "Environment (conda_tensorflow_p36)",
   "language": "python",
   "name": "conda_tensorflow_p36"
  },
  "language_info": {
   "codemirror_mode": {
    "name": "ipython",
    "version": 3
   },
   "file_extension": ".py",
   "mimetype": "text/x-python",
   "name": "python",
   "nbconvert_exporter": "python",
   "pygments_lexer": "ipython3",
   "version": "3.6.4"
  }
 },
 "nbformat": 4,
 "nbformat_minor": 2
}
