{
 "cells": [
  {
   "cell_type": "code",
   "execution_count": 1,
   "metadata": {},
   "outputs": [
    {
     "name": "stderr",
     "output_type": "stream",
     "text": [
      "/home/ubuntu/anaconda3/envs/tensorflow_p36/lib/python3.6/site-packages/h5py/__init__.py:36: FutureWarning: Conversion of the second argument of issubdtype from `float` to `np.floating` is deprecated. In future, it will be treated as `np.float64 == np.dtype(float).type`.\n",
      "  from ._conv import register_converters as _register_converters\n",
      "/home/ubuntu/anaconda3/envs/tensorflow_p36/lib/python3.6/site-packages/matplotlib/__init__.py:962: UserWarning: Duplicate key in file \"/home/ubuntu/.config/matplotlib/matplotlibrc\", line #2\n",
      "  (fname, cnt))\n",
      "/home/ubuntu/anaconda3/envs/tensorflow_p36/lib/python3.6/site-packages/matplotlib/__init__.py:962: UserWarning: Duplicate key in file \"/home/ubuntu/.config/matplotlib/matplotlibrc\", line #3\n",
      "  (fname, cnt))\n"
     ]
    }
   ],
   "source": [
    "import model_generator as mg\n",
    "model = mg.Model([300, 100, 100, 40, 1], 'Model3',  r_discount=.9, c_discount=1)\n",
    "mg.saveHP(model)\n",
    "model.setData()"
   ]
  },
  {
   "cell_type": "code",
   "execution_count": null,
   "metadata": {},
   "outputs": [
    {
     "name": "stdout",
     "output_type": "stream",
     "text": [
      "num minibatches:3662\n",
      "\tEpoch time:43 seconds\n",
      "Cost after epoch 0: 0.694440\n",
      "\tDev error (no dropout): 0.678542\n",
      "Cost after epoch 1: 0.665935\n",
      "\tDev error (no dropout): 0.652337\n",
      "Cost after epoch 2: 0.662979\n",
      "\tDev error (no dropout): 0.648961\n",
      "Cost after epoch 3: 0.662114\n",
      "\tDev error (no dropout): 0.664195\n",
      "Cost after epoch 4: 0.661575\n",
      "\tDev error (no dropout): 0.651761\n",
      "Cost after epoch 5: 0.661661\n",
      "\tDev error (no dropout): 0.655893\n",
      "Cost after epoch 6: 0.661772\n",
      "\tDev error (no dropout): 0.650124\n",
      "Cost after epoch 7: 0.660588\n",
      "\tDev error (no dropout): 0.649052\n",
      "Cost after epoch 8: 0.660523\n",
      "\tDev error (no dropout): 0.650751\n",
      "Cost after epoch 9: 0.661878\n",
      "\tDev error (no dropout): 0.651862\n",
      "\tAve epoch time: 43.741935\n",
      "\t100 epochs will take 1:12:54.193499\n",
      "Cost after epoch 10: 0.663059\n",
      "\tDev error (no dropout): 0.649813\n",
      "Cost after epoch 20: 0.664742\n",
      "\tDev error (no dropout): 0.651792\n",
      "Cost after epoch 30: 0.672427\n",
      "\tDev error (no dropout): 0.659519\n",
      "Cost after epoch 40: 0.671475\n",
      "\tDev error (no dropout): 0.657167\n",
      "Cost after epoch 50: 0.670931\n",
      "\tDev error (no dropout): 0.657136\n",
      "Cost after epoch 60: 0.676711\n",
      "\tDev error (no dropout): 0.667130\n"
     ]
    }
   ],
   "source": [
    "model.TrainModel(num_epochs=100, learning_rate=0.001)"
   ]
  },
  {
   "cell_type": "code",
   "execution_count": null,
   "metadata": {},
   "outputs": [],
   "source": [
    "import utils.data as data"
   ]
  },
  {
   "cell_type": "code",
   "execution_count": null,
   "metadata": {},
   "outputs": [],
   "source": [
    "X_A, X_B, Y_A, Y_B = data.dataFileToLabeledData_1(model.dataFilename)"
   ]
  }
 ],
 "metadata": {
  "kernelspec": {
   "display_name": "Environment (conda_tensorflow_p36)",
   "language": "python",
   "name": "conda_tensorflow_p36"
  },
  "language_info": {
   "codemirror_mode": {
    "name": "ipython",
    "version": 3
   },
   "file_extension": ".py",
   "mimetype": "text/x-python",
   "name": "python",
   "nbconvert_exporter": "python",
   "pygments_lexer": "ipython3",
   "version": "3.6.4"
  }
 },
 "nbformat": 4,
 "nbformat_minor": 2
}
