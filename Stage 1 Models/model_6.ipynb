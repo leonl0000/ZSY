{
 "cells": [
  {
   "cell_type": "code",
   "execution_count": 1,
   "metadata": {},
   "outputs": [
    {
     "name": "stderr",
     "output_type": "stream",
     "text": [
      "/home/ubuntu/anaconda3/envs/tensorflow_p36/lib/python3.6/site-packages/h5py/__init__.py:36: FutureWarning: Conversion of the second argument of issubdtype from `float` to `np.floating` is deprecated. In future, it will be treated as `np.float64 == np.dtype(float).type`.\n",
      "  from ._conv import register_converters as _register_converters\n",
      "/home/ubuntu/anaconda3/envs/tensorflow_p36/lib/python3.6/site-packages/matplotlib/__init__.py:962: UserWarning: Duplicate key in file \"/home/ubuntu/.config/matplotlib/matplotlibrc\", line #2\n",
      "  (fname, cnt))\n",
      "/home/ubuntu/anaconda3/envs/tensorflow_p36/lib/python3.6/site-packages/matplotlib/__init__.py:962: UserWarning: Duplicate key in file \"/home/ubuntu/.config/matplotlib/matplotlibrc\", line #3\n",
      "  (fname, cnt))\n"
     ]
    }
   ],
   "source": [
    "import model_generator as mg\n",
    "model = mg.Model([300, 400, 40, 1], 'Model6',  r_discount=.9, c_discount=1)\n",
    "mg.saveHP(model)\n",
    "model.setData()"
   ]
  },
  {
   "cell_type": "code",
   "execution_count": null,
   "metadata": {},
   "outputs": [
    {
     "name": "stdout",
     "output_type": "stream",
     "text": [
      "num minibatches:3662\n",
      "\tEpoch time:37 seconds\n",
      "Cost after epoch 0: 0.675083\n",
      "\tDev error (no dropout): 0.648957\n",
      "Cost after epoch 1: 0.653755\n",
      "\tDev error (no dropout): 0.646319\n",
      "Cost after epoch 2: 0.650568\n",
      "\tDev error (no dropout): 0.646419\n",
      "Cost after epoch 3: 0.648943\n",
      "\tDev error (no dropout): 0.651290\n",
      "Cost after epoch 4: 0.647658\n",
      "\tDev error (no dropout): 0.644172\n",
      "Cost after epoch 5: 0.646442\n",
      "\tDev error (no dropout): 0.644819\n",
      "Cost after epoch 6: 0.646775\n",
      "\tDev error (no dropout): 0.645005\n",
      "Cost after epoch 7: 0.647893\n",
      "\tDev error (no dropout): 0.642097\n",
      "Cost after epoch 8: 0.646785\n",
      "\tDev error (no dropout): 0.644003\n",
      "Cost after epoch 9: 0.646609\n",
      "\tDev error (no dropout): 0.644706\n",
      "\tAve epoch time: 36.279495\n",
      "\t100 epochs will take 1:00:27.949522\n",
      "Cost after epoch 10: 0.646211\n",
      "\tDev error (no dropout): 0.645377\n",
      "Cost after epoch 20: 0.648020\n",
      "\tDev error (no dropout): 0.641674\n",
      "Cost after epoch 30: 0.647989\n",
      "\tDev error (no dropout): 0.646226\n",
      "Cost after epoch 40: 0.648824\n",
      "\tDev error (no dropout): 0.641415\n",
      "Cost after epoch 50: 0.648778\n",
      "\tDev error (no dropout): 0.641038\n",
      "Cost after epoch 60: 0.651292\n",
      "\tDev error (no dropout): 0.654798\n",
      "Cost after epoch 70: 0.652362\n",
      "\tDev error (no dropout): 0.654513\n",
      "Cost after epoch 80: 0.651388\n",
      "\tDev error (no dropout): 0.643496\n"
     ]
    }
   ],
   "source": [
    "model.TrainModel(num_epochs=100, learning_rate=0.001)"
   ]
  },
  {
   "cell_type": "code",
   "execution_count": null,
   "metadata": {},
   "outputs": [],
   "source": [
    "import zsyGame as zsy\n",
    "zsy.stdTest(model.paramFileName, 100)"
   ]
  }
 ],
 "metadata": {
  "kernelspec": {
   "display_name": "Environment (conda_tensorflow_p36)",
   "language": "python",
   "name": "conda_tensorflow_p36"
  },
  "language_info": {
   "codemirror_mode": {
    "name": "ipython",
    "version": 3
   },
   "file_extension": ".py",
   "mimetype": "text/x-python",
   "name": "python",
   "nbconvert_exporter": "python",
   "pygments_lexer": "ipython3",
   "version": "3.6.4"
  }
 },
 "nbformat": 4,
 "nbformat_minor": 2
}
