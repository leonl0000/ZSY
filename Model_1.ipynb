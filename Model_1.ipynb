{
 "cells": [
  {
   "cell_type": "code",
   "execution_count": 107,
   "metadata": {},
   "outputs": [],
   "source": [
    "from utils.runn import *\n",
    "import zsyGame as zsy\n",
    "import matplotlib.pyplot as plt\n",
    "import tensorflow as tf\n",
    "from tensorflow.python.framework import ops\n",
    "from tf_utils import load_dataset, random_mini_batches, convert_to_one_hot, predict\n",
    "import tf_utils as tu\n",
    "import math\n",
    "import time\n",
    "import pickle\n",
    "from datetime import timedelta"
   ]
  },
  {
   "cell_type": "code",
   "execution_count": 4,
   "metadata": {
    "collapsed": true
   },
   "outputs": [],
   "source": [
    "X_A, X_B, Y_A, Y_B = zsy.dataFileToLabeledData_1(r'data\\1M RandvRand\\T100k_0.h5')\n",
    "X_A = X_A[:,:,0].T\n",
    "X_B = X_B[:,:,0].T\n",
    "Y_A = Y_A[:,:,0].T\n",
    "Y_B = Y_B[:,:,0].T"
   ]
  },
  {
   "cell_type": "code",
   "execution_count": 58,
   "metadata": {},
   "outputs": [],
   "source": [
    "X_Train = X_A[:,:int(X_A.shape[1]*.96)]\n",
    "X_Dev = X_A[:,int(X_A.shape[1]*.96):int(X_A.shape[1]*.98)]\n",
    "X_Test = X_A[:,int(X_A.shape[1]*.98):]\n",
    "Y_Train = convertYToLogistic(Y_A[:,:int(X_A.shape[1]*.96)], 0.9)\n",
    "Y_Dev = convertYToLogistic(Y_A[:,int(X_A.shape[1]*.96):int(X_A.shape[1]*.98)], 0.9)\n",
    "Y_Test = convertYToLogistic(Y_A[:,int(X_A.shape[1]*.98):], 0.9)"
   ]
  },
  {
   "cell_type": "code",
   "execution_count": 31,
   "metadata": {},
   "outputs": [],
   "source": [
    "# Original Y is Y[0] = 1 if win, -1 if lose\n",
    "# Y[1] is how many steps away from the end of the game\n",
    "def convertY(Y, discount):\n",
    "    return (Y[0]*discount**Y[1]).reshape(1,-1)\n",
    "\n",
    "def convertYToLogistic(Y, discount):\n",
    "    return (convertY(Y, discount) + 1)/2"
   ]
  },
  {
   "cell_type": "code",
   "execution_count": 95,
   "metadata": {
    "collapsed": true
   },
   "outputs": [],
   "source": [
    "def create_placeholders(n_x, n_y):\n",
    "    \"\"\"\n",
    "    Creates the placeholders for the tensorflow session.\n",
    "    \n",
    "    Arguments:\n",
    "    n_x -- scalar, size of an image vector (num_px * num_px = 64 * 64 * 3 = 12288)\n",
    "    n_y -- scalar, number of classes (from 0 to 5, so -> 6)\n",
    "    \n",
    "    Returns:\n",
    "    X -- placeholder for the data input, of shape [n_x, None] and dtype \"float\"\n",
    "    Y -- placeholder for the input labels, of shape [n_y, None] and dtype \"float\"\n",
    "    \"\"\"\n",
    "\n",
    "    ### START CODE HERE ### (approx. 2 lines)\n",
    "    X = tf.placeholder(tf.float32, [n_x, None])\n",
    "    Y = tf.placeholder(tf.float32, [n_y, None])\n",
    "    ### END CODE HERE ###\n",
    "    \n",
    "    return X, Y\n",
    "\n",
    "\n",
    "def initialize_parameters(n_x, n_1, n_2, n_3=1):\n",
    "    \"\"\"\n",
    "    Initializes parameters to build a neural network with tensorflow. The shapes are:\n",
    "    Returns:\n",
    "    parameters -- a dictionary of tensors containing W1, b1, W2, b2, W3, b3\n",
    "    \"\"\"\n",
    "    \n",
    "    tf.set_random_seed(1)                   # so that your \"random\" numbers match ours\n",
    "        \n",
    "    ### START CODE HERE ### (approx. 6 lines of code)\n",
    "    W1 = tf.get_variable(\"W1\", [n_1, n_x], initializer = tf.contrib.layers.xavier_initializer(seed = 1))\n",
    "    b1 = tf.get_variable(\"b1\", [n_1,1], initializer = tf.zeros_initializer)\n",
    "    W2 = tf.get_variable(\"W2\", [n_2, n_1], initializer = tf.contrib.layers.xavier_initializer(seed = 1))\n",
    "    b2 = tf.get_variable(\"b2\", [n_2,1], initializer = tf.zeros_initializer)\n",
    "    W3 = tf.get_variable(\"W3\", [n_3, n_2], initializer = tf.contrib.layers.xavier_initializer(seed = 1))\n",
    "    b3 = tf.get_variable(\"b3\", [n_3,1], initializer = tf.zeros_initializer)\n",
    "    ### END CODE HERE ###\n",
    "\n",
    "    parameters = {\"W1\": W1,\n",
    "                  \"b1\": b1,\n",
    "                  \"W2\": W2,\n",
    "                  \"b2\": b2,\n",
    "                  \"W3\": W3,\n",
    "                  \"b3\": b3}\n",
    "    \n",
    "    return parameters\n",
    "\n",
    "def forward_propagation(X, parameters, keep_prob):\n",
    "    \"\"\"\n",
    "    Implements the forward propagation for the model: LINEAR -> RELU -> LINEAR -> RELU -> LINEAR -> SOFTMAX\n",
    "    \n",
    "    Arguments:\n",
    "    X -- input dataset placeholder, of shape (input size, number of examples)\n",
    "    parameters -- python dictionary containing your parameters \"W1\", \"b1\", \"W2\", \"b2\", \"W3\", \"b3\"\n",
    "                  the shapes are given in initialize_parameters\n",
    "\n",
    "    Returns:\n",
    "    Z3 -- the output of the last LINEAR unit\n",
    "    \"\"\"\n",
    "    \n",
    "    # Retrieve the parameters from the dictionary \"parameters\" \n",
    "    W1 = parameters['W1']\n",
    "    b1 = parameters['b1']\n",
    "    W2 = parameters['W2']\n",
    "    b2 = parameters['b2']\n",
    "    W3 = parameters['W3']\n",
    "    b3 = parameters['b3']\n",
    "    \n",
    "    ### START CODE HERE ### (approx. 5 lines)              # Numpy Equivalents:\n",
    "    Z1 = tf.add(tf.matmul(W1, X),b1)                                       # Z1 = np.dot(W1, X) + b1\n",
    "    A1 = tf.nn.dropout(tf.nn.relu(Z1), keep_prob)                                             # A1 = relu(Z1)\n",
    "    Z2 = tf.add(tf.matmul(W2, A1),b2)                                                 # Z2 = np.dot(W2, a1) + b2\n",
    "    A2 = tf.nn.dropout(tf.nn.relu(Z2), keep_prob)                                               # A2 = relu(Z2)\n",
    "    Z3 = tf.add(tf.matmul(W3, A2),b3)                                                 # Z3 = np.dot(W3,Z2) + b3\n",
    "    ### END CODE HERE ###\n",
    "    \n",
    "    return Z3\n",
    "\n",
    "\n",
    "def compute_cost(Z3, Y):\n",
    "    \"\"\"\n",
    "    Computes the cost\n",
    "    \n",
    "    Arguments:\n",
    "    Z3 -- output of forward propagation (output of the last LINEAR unit), of shape (6, number of examples)\n",
    "    Y -- \"true\" labels vector placeholder, same shape as Z3\n",
    "    \n",
    "    Returns:\n",
    "    cost - Tensor of the cost function\n",
    "    \"\"\"\n",
    "    \n",
    "    # to fit the tensorflow requirement for tf.nn.softmax_cross_entropy_with_logits(...,...)\n",
    "    predictions = tf.transpose(tf.sigmoid(Z3))\n",
    "    labels = tf.transpose(Y)\n",
    "    \n",
    "    ### START CODE HERE ### (1 line of code)\n",
    "    cost = tf.losses.log_loss(labels, predictions)\n",
    "    ### END CODE HERE ###\n",
    "    \n",
    "    return cost"
   ]
  },
  {
   "cell_type": "code",
   "execution_count": 108,
   "metadata": {},
   "outputs": [],
   "source": [
    "def model(X_train, Y_train, X_test, Y_test, keep_prob, n_1, n_2, n_3=1, learning_rate = 0.001,\n",
    "          num_epochs = 1500, minibatch_size = 1024, print_cost = True):\n",
    "    \"\"\"\n",
    "    Implements a three-layer tensorflow neural network: LINEAR->RELU->LINEAR->RELU->LINEAR->SOFTMAX.\n",
    "    \n",
    "    Arguments:\n",
    "    X_train -- training set, of shape (input size = 12288, number of training examples = 1080)\n",
    "    Y_train -- test set, of shape (output size = 6, number of training examples = 1080)\n",
    "    X_test -- training set, of shape (input size = 12288, number of training examples = 120)\n",
    "    Y_test -- test set, of shape (output size = 6, number of test examples = 120)\n",
    "    learning_rate -- learning rate of the optimization\n",
    "    num_epochs -- number of epochs of the optimization loop\n",
    "    minibatch_size -- size of a minibatch\n",
    "    print_cost -- True to print the cost every 100 epochs\n",
    "    \n",
    "    Returns:\n",
    "    parameters -- parameters learnt by the model. They can then be used to predict.\n",
    "    \"\"\"\n",
    "    \n",
    "    ops.reset_default_graph()                         # to be able to rerun the model without overwriting tf variables\n",
    "    tf.set_random_seed(1)                             # to keep consistent results\n",
    "    seed = 3                                          # to keep consistent results\n",
    "    (n_x, m) = X_train.shape                          # (n_x: input size, m : number of examples in the train set)\n",
    "    n_y = Y_train.shape[0]                            # n_y : output size\n",
    "    costs = []                                        # To keep track of the cost\n",
    "    dev_costs = []\n",
    "    print(\"nx:%d ny:%d, m:%d\"%(n_x, n_y, m))\n",
    "    \n",
    "    # Create Placeholders of shape (n_x, n_y)\n",
    "    ### START CODE HERE ### (1 line)\n",
    "    X, Y = create_placeholders(n_x, n_y)\n",
    "    ### END CODE HERE ###\n",
    "\n",
    "    # Initialize parameters\n",
    "    ### START CODE HERE ### (1 line)\n",
    "    parameters = initialize_parameters(n_x, n_1, n_2, n_3)\n",
    "    ### END CODE HERE ###\n",
    "    \n",
    "    # Forward propagation: Build the forward propagation in the tensorflow graph\n",
    "    ### START CODE HERE ### (1 line)\n",
    "    Z3 = forward_propagation(X, parameters, keep_prob)\n",
    "    Z3_ = forward_propagation(X, parameters, 1.0)\n",
    "    ### END CODE HERE ###\n",
    "    \n",
    "    # Cost function: Add cost function to tensorflow graph\n",
    "    ### START CODE HERE ### (1 line)\n",
    "    cost = compute_cost(Z3, Y)\n",
    "    cost_ = compute_cost(Z3_, Y)\n",
    "    ### END CODE HERE ###\n",
    "    \n",
    "    # Backpropagation: Define the tensorflow optimizer. Use an AdamOptimizer.\n",
    "    ### START CODE HERE ### (1 line)\n",
    "    optimizer = tf.train.AdamOptimizer(learning_rate = learning_rate).minimize(cost)\n",
    "    ### END CODE HERE ###\n",
    "    \n",
    "    # Initialize all the variables\n",
    "    init = tf.global_variables_initializer()\n",
    "\n",
    "    # Start the session to compute the tensorflow graph\n",
    "    with tf.Session() as sess:\n",
    "        \n",
    "        # Run the initialization\n",
    "        sess.run(init)\n",
    "        \n",
    "        # Do the training loop\n",
    "        for epoch in range(num_epochs):\n",
    "            if(epoch==0):\n",
    "                tic0 = time.time()\n",
    "            if(epoch==10):\n",
    "                tic10 = time.time()\n",
    "\n",
    "            epoch_cost = 0.                       # Defines a cost related to an epoch\n",
    "            num_minibatches = int(m / minibatch_size) # number of minibatches of size minibatch_size in the train set\n",
    "            if(epoch==0):\n",
    "                print(\"num minibatches:%d\"%(num_minibatches))\n",
    "            seed = seed + 1\n",
    "            minibatches = random_mini_batches(X_train, Y_train, minibatch_size, seed)\n",
    "            tic = time.time()\n",
    "            for minibatch in minibatches:\n",
    "\n",
    "                # Select a minibatch\n",
    "                (minibatch_X, minibatch_Y) = minibatch\n",
    "                \n",
    "                ### START CODE HERE ### (1 line)\n",
    "                _ , minibatch_cost = sess.run([optimizer, cost], feed_dict={X: minibatch_X, Y:minibatch_Y})\n",
    "                ### END CODE HERE ###\n",
    "                \n",
    "                epoch_cost += minibatch_cost / num_minibatches\n",
    "            toc = time.time()\n",
    "            if epoch == 0:\n",
    "                print (\"\\tEpoch time:%d seconds\"%(toc-tic))\n",
    "            if epoch == 10:\n",
    "                print (\"\\tAve epoch time: %f\"%((tic10-tic0)/10))\n",
    "                print (\"\\t100 epochs will take %s\"%(timedelta(seconds=10*(tic10-tic0))))\n",
    "            # Print the cost every epoch\n",
    "            if print_cost == True and (epoch % 5 == 0 or epoch < 10):\n",
    "                dev_cost = sess.run(cost_, feed_dict={X: X_test, Y:Y_test})\n",
    "            if print_cost == True and (epoch % 10 == 0 or epoch < 10):\n",
    "                print (\"Cost after epoch %i: %f\" % (epoch, epoch_cost))\n",
    "                print (\"\\tDev error (no dropout): %f\"%(dev_cost))\n",
    "            if print_cost == True and epoch % 5 == 0:\n",
    "                costs.append(epoch_cost)\n",
    "                dev_costs.append(dev_cost)\n",
    "                \n",
    "        # plot the cost\n",
    "        xrange = 5*np.arange(num_epochs/5)\n",
    "        plt.plot(xrange, np.squeeze(costs), xrange, np.squeeze(dev_costs))\n",
    "        plt.ylabel('cost')\n",
    "        plt.xlabel('iterations')\n",
    "        plt.title(\"Learning rate =\" + str(learning_rate))\n",
    "        plt.show()\n",
    "\n",
    "        # lets save the parameters in a variable\n",
    "        parameters = sess.run(parameters)\n",
    "        print (\"Parameters have been trained!\")\n",
    "\n",
    "        train_cost = sess.run(cost_, feed_dict={X: X_train, Y:Y_train})\n",
    "        dev_cost = sess.run(cost_, feed_dict={X: X_test, Y:Y_test})\n",
    "\n",
    "        print (\"Train cost (No dropout):\", train_cost)\n",
    "        print (\"Test cost (No dropout):\", dev_cost)\n",
    "        \n",
    "        return parameters"
   ]
  },
  {
   "cell_type": "code",
   "execution_count": 66,
   "metadata": {},
   "outputs": [],
   "source": [
    "def computeCosts(X, Y, parameters):\n",
    "    W1 = tf.convert_to_tensor(parameters[\"W1\"])\n",
    "    b1 = tf.convert_to_tensor(parameters[\"b1\"])\n",
    "    W2 = tf.convert_to_tensor(parameters[\"W2\"])\n",
    "    b2 = tf.convert_to_tensor(parameters[\"b2\"])\n",
    "    W3 = tf.convert_to_tensor(parameters[\"W3\"])\n",
    "    b3 = tf.convert_to_tensor(parameters[\"b3\"])\n",
    "    params = {\"W1\": W1,\n",
    "              \"b1\": b1,\n",
    "              \"W2\": W2,\n",
    "              \"b2\": b2,\n",
    "              \"W3\": W3,\n",
    "              \"b3\": b3}\n",
    "    x = tf.placeholder(\"float\", [300, None])\n",
    "    Z3 = tu.forward_propagation_for_predict(x, params)\n",
    "    A3 = tf.transpose(tf.sigmoid(Z3))\n",
    "    labels = tf.transpose(Y)\n",
    "    cost = tf.losses.log_loss(labels, A3)\n",
    "    sess = tf.Session()\n",
    "    cost = sess.run(cost, feed_dict = {x: X})  \n",
    "    return cost"
   ]
  },
  {
   "cell_type": "code",
   "execution_count": 109,
   "metadata": {},
   "outputs": [
    {
     "name": "stdout",
     "output_type": "stream",
     "text": [
      "nx:300 ny:1, m:1861134\n",
      "num minibatches:1817\n",
      "\tEpoch time:38 seconds\n",
      "Cost after epoch 0: 0.650832\n",
      "\tDev error (no dropout): 0.638112\n",
      "Cost after epoch 1: 0.640046\n",
      "\tDev error (no dropout): 0.635958\n",
      "Cost after epoch 2: 0.638129\n",
      "\tDev error (no dropout): 0.635203\n",
      "Cost after epoch 3: 0.637196\n",
      "\tDev error (no dropout): 0.634092\n",
      "Cost after epoch 4: 0.636387\n",
      "\tDev error (no dropout): 0.635001\n",
      "Cost after epoch 5: 0.635772\n",
      "\tDev error (no dropout): 0.632879\n",
      "Cost after epoch 6: 0.635417\n",
      "\tDev error (no dropout): 0.633527\n",
      "Cost after epoch 7: 0.635001\n",
      "\tDev error (no dropout): 0.633207\n",
      "Cost after epoch 8: 0.634877\n",
      "\tDev error (no dropout): 0.633370\n",
      "Cost after epoch 9: 0.635202\n",
      "\tDev error (no dropout): 0.633896\n",
      "\tAve epoch time: 41.977839\n",
      "\t100 epochs will take 1:09:57.783859\n",
      "Cost after epoch 10: 0.634866\n",
      "\tDev error (no dropout): 0.633742\n",
      "Cost after epoch 20: 0.633153\n",
      "\tDev error (no dropout): 0.634044\n",
      "Cost after epoch 30: 0.632482\n",
      "\tDev error (no dropout): 0.633703\n",
      "Cost after epoch 40: 0.632507\n",
      "\tDev error (no dropout): 0.634082\n",
      "Cost after epoch 50: 0.632015\n",
      "\tDev error (no dropout): 0.633925\n",
      "Cost after epoch 60: 0.631847\n",
      "\tDev error (no dropout): 0.633813\n",
      "Cost after epoch 70: 0.631690\n",
      "\tDev error (no dropout): 0.633589\n",
      "Cost after epoch 80: 0.631673\n",
      "\tDev error (no dropout): 0.633727\n",
      "Cost after epoch 90: 0.631288\n",
      "\tDev error (no dropout): 0.634078\n"
     ]
    },
    {
     "data": {
      "image/png": "[encoded data removed]",
      "text/plain": [
       "<matplotlib.figure.Figure at 0x14838e35b00>"
      ]
     },
     "metadata": {},
     "output_type": "display_data"
    },
    {
     "name": "stdout",
     "output_type": "stream",
     "text": [
      "Parameters have been trained!\n",
      "Train cost (No dropout): 0.62401\n",
      "Test cost (No dropout): 0.634024\n"
     ]
    }
   ],
   "source": [
    "parameters = model(X_Train, Y_Train, X_Dev, Y_Dev, 0.5, 200, 40, num_epochs = 100)"
   ]
  },
  {
   "cell_type": "code",
   "execution_count": 112,
   "metadata": {},
   "outputs": [
    {
     "data": {
      "text/plain": [
       "0.62400979"
      ]
     },
     "execution_count": 112,
     "metadata": {},
     "output_type": "execute_result"
    }
   ],
   "source": [
    "computeCosts(X_Train, Y_Train, parameters)"
   ]
  },
  {
   "cell_type": "code",
   "execution_count": 111,
   "metadata": {},
   "outputs": [
    {
     "data": {
      "text/plain": [
       "0.63402367"
      ]
     },
     "execution_count": 111,
     "metadata": {},
     "output_type": "execute_result"
    }
   ],
   "source": [
    "computeCosts(X_Dev, Y_Dev, parameters)"
   ]
  },
  {
   "cell_type": "code",
   "execution_count": 89,
   "metadata": {},
   "outputs": [
    {
     "name": "stdout",
     "output_type": "stream",
     "text": [
      "0.626561 0.635208\n"
     ]
    }
   ],
   "source": [
    "print(computeCosts(X_Train, Y_Train, params), computeCosts(X_Dev, Y_Dev, params))"
   ]
  },
  {
   "cell_type": "code",
   "execution_count": 113,
   "metadata": {},
   "outputs": [
    {
     "data": {
      "text/plain": [
       "array([[ 0.47493479,  0.48097113,  0.49750122]], dtype=float32)"
      ]
     },
     "execution_count": 113,
     "metadata": {},
     "output_type": "execute_result"
    }
   ],
   "source": [
    "tu.predict(X_Dev[:,:3], parameters)"
   ]
  },
  {
   "cell_type": "code",
   "execution_count": 110,
   "metadata": {},
   "outputs": [
    {
     "data": {
      "text/plain": [
       "<module 'tf_utils' from 'C:\\\\Users\\\\darky\\\\Downloads\\\\!CS230\\\\ZSY\\\\tf_utils.py'>"
      ]
     },
     "execution_count": 110,
     "metadata": {},
     "output_type": "execute_result"
    }
   ],
   "source": [
    "reload(tu)"
   ]
  },
  {
   "cell_type": "code",
   "execution_count": 114,
   "metadata": {},
   "outputs": [],
   "source": [
    "f = open(\"Parameters_100epochs_dropout.pkl\", 'wb+')\n",
    "pickle.dump(parameters, f)\n",
    "f.close()"
   ]
  },
  {
   "cell_type": "code",
   "execution_count": 87,
   "metadata": {},
   "outputs": [],
   "source": [
    "f = open(\"Parameters_100epochs_dropout.pkl\", 'rb')\n",
    "params = pickle.load(f)\n",
    "f.close()"
   ]
  }
 ],
 "metadata": {
  "kernelspec": {
   "display_name": "Python 3",
   "language": "python",
   "name": "python3"
  },
  "language_info": {
   "codemirror_mode": {
    "name": "ipython",
    "version": 3
   },
   "file_extension": ".py",
   "mimetype": "text/x-python",
   "name": "python",
   "nbconvert_exporter": "python",
   "pygments_lexer": "ipython3",
   "version": "3.6.2"
  }
 },
 "nbformat": 4,
 "nbformat_minor": 2
}
