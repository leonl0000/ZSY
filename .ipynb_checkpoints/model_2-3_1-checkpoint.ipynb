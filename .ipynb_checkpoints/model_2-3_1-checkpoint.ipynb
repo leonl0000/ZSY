{
 "cells": [
  {
   "cell_type": "code",
   "execution_count": 1,
   "metadata": {},
   "outputs": [
    {
     "name": "stderr",
     "output_type": "stream",
     "text": [
      "/home/ubuntu/anaconda3/envs/tensorflow_p36/lib/python3.6/site-packages/h5py/__init__.py:36: FutureWarning: Conversion of the second argument of issubdtype from `float` to `np.floating` is deprecated. In future, it will be treated as `np.float64 == np.dtype(float).type`.\n",
      "  from ._conv import register_converters as _register_converters\n",
      "/home/ubuntu/anaconda3/envs/tensorflow_p36/lib/python3.6/site-packages/matplotlib/__init__.py:962: UserWarning: Duplicate key in file \"/home/ubuntu/.config/matplotlib/matplotlibrc\", line #2\n",
      "  (fname, cnt))\n",
      "/home/ubuntu/anaconda3/envs/tensorflow_p36/lib/python3.6/site-packages/matplotlib/__init__.py:962: UserWarning: Duplicate key in file \"/home/ubuntu/.config/matplotlib/matplotlibrc\", line #3\n",
      "  (fname, cnt))\n"
     ]
    }
   ],
   "source": [
    "import os\n",
    "import model_generator as mg\n",
    "inIter = '0'"
   ]
  },
  {
   "cell_type": "code",
   "execution_count": 2,
   "metadata": {},
   "outputs": [],
   "source": [
    "model = mg.Model([300, 200, 40, 1], 'Model_2-3', \n",
    "                 dataFilename = 'Model_2-3/T_'+inIter+'.h5', \n",
    "                 paramFileName = 'Parameters_M1_100epochs.pkl', r_discount=.90, c_discount=1)\n",
    "mg.saveHP(model)\n",
    "model.setData()"
   ]
  },
  {
   "cell_type": "code",
   "execution_count": null,
   "metadata": {},
   "outputs": [
    {
     "name": "stdout",
     "output_type": "stream",
     "text": [
      "num minibatches:1257\n",
      "\tEpoch time:16 seconds\n",
      "Cost after epoch 0: 0.612544\n",
      "\tDev error (no dropout): 0.557212\n",
      "Cost after epoch 1: 0.573070\n",
      "\tDev error (no dropout): 0.549299\n",
      "Cost after epoch 2: 0.568222\n",
      "\tDev error (no dropout): 0.546690\n",
      "Cost after epoch 3: 0.565682\n",
      "\tDev error (no dropout): 0.545033\n",
      "Cost after epoch 4: 0.563497\n",
      "\tDev error (no dropout): 0.544559\n",
      "Cost after epoch 5: 0.561660\n",
      "\tDev error (no dropout): 0.543265\n",
      "Cost after epoch 6: 0.560743\n",
      "\tDev error (no dropout): 0.542207\n",
      "Cost after epoch 7: 0.559593\n",
      "\tDev error (no dropout): 0.542309\n",
      "Cost after epoch 8: 0.558905\n",
      "\tDev error (no dropout): 0.541264\n",
      "Cost after epoch 9: 0.558575\n",
      "\tDev error (no dropout): 0.541102\n",
      "\tAve epoch time: 16.224094\n",
      "\t100 epochs will take 0:27:02.409439\n",
      "Cost after epoch 10: 0.557399\n",
      "\tDev error (no dropout): 0.541125\n",
      "Cost after epoch 20: 0.553397\n",
      "\tDev error (no dropout): 0.538353\n"
     ]
    }
   ],
   "source": [
    "model.TrainModel(num_epochs=50, minibatch_size=2048, learning_rate=0.0001)"
   ]
  },
  {
   "cell_type": "code",
   "execution_count": null,
   "metadata": {},
   "outputs": [],
   "source": [
    "os.system('git add .')\n",
    "os.system('git commit -m \"Model_2-3_'+str(model.modelIter)+' trained\"')\n",
    "os.system('git pull')\n",
    "os.system('git push origin master')"
   ]
  },
  {
   "cell_type": "code",
   "execution_count": null,
   "metadata": {},
   "outputs": [],
   "source": [
    "model.TestModel(1000)"
   ]
  },
  {
   "cell_type": "code",
   "execution_count": null,
   "metadata": {},
   "outputs": [],
   "source": [
    "model.TestModel(20000)"
   ]
  },
  {
   "cell_type": "code",
   "execution_count": null,
   "metadata": {},
   "outputs": [],
   "source": []
  },
  {
   "cell_type": "code",
   "execution_count": null,
   "metadata": {},
   "outputs": [],
   "source": [
    "import zsyMultigame as multi\n",
    "import os\n",
    "outIter = '1'\n",
    "multi.simulate('Model_2-3/params_Model_2-3_'+outIter+'.pkl', os.path.join('Model_2-3','T_'+outIter+'.h5'),\n",
    "               numGames=100000, poolsize = 20, exploration_prob = 0.2)"
   ]
  },
  {
   "cell_type": "code",
   "execution_count": null,
   "metadata": {},
   "outputs": [],
   "source": [
    "os.system('git add .')\n",
    "os.system('git commit -m \"Model_2-3_'+outIter+' simulated\"')\n",
    "os.system('git pull')\n",
    "os.system('git push origin master')"
   ]
  }
 ],
 "metadata": {
  "kernelspec": {
   "display_name": "Environment (conda_tensorflow_p36)",
   "language": "python",
   "name": "conda_tensorflow_p36"
  },
  "language_info": {
   "codemirror_mode": {
    "name": "ipython",
    "version": 3
   },
   "file_extension": ".py",
   "mimetype": "text/x-python",
   "name": "python",
   "nbconvert_exporter": "python",
   "pygments_lexer": "ipython3",
   "version": "3.6.4"
  }
 },
 "nbformat": 4,
 "nbformat_minor": 2
}
