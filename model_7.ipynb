{
 "cells": [
  {
   "cell_type": "code",
   "execution_count": 1,
   "metadata": {},
   "outputs": [
    {
     "name": "stderr",
     "output_type": "stream",
     "text": [
      "/home/ubuntu/anaconda3/envs/tensorflow_p36/lib/python3.6/site-packages/h5py/__init__.py:36: FutureWarning: Conversion of the second argument of issubdtype from `float` to `np.floating` is deprecated. In future, it will be treated as `np.float64 == np.dtype(float).type`.\n",
      "  from ._conv import register_converters as _register_converters\n",
      "/home/ubuntu/anaconda3/envs/tensorflow_p36/lib/python3.6/site-packages/matplotlib/__init__.py:962: UserWarning: Duplicate key in file \"/home/ubuntu/.config/matplotlib/matplotlibrc\", line #2\n",
      "  (fname, cnt))\n",
      "/home/ubuntu/anaconda3/envs/tensorflow_p36/lib/python3.6/site-packages/matplotlib/__init__.py:962: UserWarning: Duplicate key in file \"/home/ubuntu/.config/matplotlib/matplotlibrc\", line #3\n",
      "  (fname, cnt))\n"
     ]
    }
   ],
   "source": [
    "import model_generator as mg\n",
    "model = mg.Model([300, 100, 100, 40, 1], 'Model7',  r_discount=1, c_discount=.9)\n",
    "mg.saveHP(model)\n",
    "model.setData()"
   ]
  },
  {
   "cell_type": "code",
   "execution_count": null,
   "metadata": {},
   "outputs": [
    {
     "name": "stdout",
     "output_type": "stream",
     "text": [
      "num minibatches:3662\n",
      "\tEpoch time:28 seconds\n",
      "Cost after epoch 0: 2.204431\n",
      "\tDev error (no dropout): 2.101921\n",
      "Cost after epoch 1: 2.121428\n",
      "\tDev error (no dropout): 2.089633\n",
      "Cost after epoch 2: 2.111363\n",
      "\tDev error (no dropout): 2.085089\n",
      "Cost after epoch 3: 2.105877\n",
      "\tDev error (no dropout): 2.074012\n",
      "Cost after epoch 4: 2.102220\n",
      "\tDev error (no dropout): 2.075653\n",
      "Cost after epoch 5: 2.102946\n",
      "\tDev error (no dropout): 2.061588\n",
      "Cost after epoch 6: 2.103911\n",
      "\tDev error (no dropout): 2.082400\n",
      "Cost after epoch 7: 2.104103\n",
      "\tDev error (no dropout): 2.076637\n",
      "Cost after epoch 8: 2.106784\n",
      "\tDev error (no dropout): 2.102012\n",
      "Cost after epoch 9: 2.104997\n",
      "\tDev error (no dropout): 2.113344\n",
      "\tAve epoch time: 33.836503\n",
      "\t100 epochs will take 0:56:23.650343\n",
      "Cost after epoch 10: 2.118043\n",
      "\tDev error (no dropout): 2.176494\n",
      "Cost after epoch 20: 2.132683\n",
      "\tDev error (no dropout): 2.055968\n",
      "Cost after epoch 30: 2.143719\n",
      "\tDev error (no dropout): 2.112398\n",
      "Cost after epoch 40: 2.172044\n",
      "\tDev error (no dropout): 2.160215\n",
      "Cost after epoch 50: 2.161764\n",
      "\tDev error (no dropout): 2.144016\n",
      "Cost after epoch 60: 2.198235\n",
      "\tDev error (no dropout): 2.143313\n",
      "Cost after epoch 70: 2.202376\n",
      "\tDev error (no dropout): 2.178290\n"
     ]
    }
   ],
   "source": [
    "model.TrainModel(num_epochs=100, learning_rate=0.001)"
   ]
  },
  {
   "cell_type": "code",
   "execution_count": null,
   "metadata": {},
   "outputs": [],
   "source": []
  }
 ],
 "metadata": {
  "kernelspec": {
   "display_name": "Environment (conda_tensorflow_p36)",
   "language": "python",
   "name": "conda_tensorflow_p36"
  },
  "language_info": {
   "codemirror_mode": {
    "name": "ipython",
    "version": 3
   },
   "file_extension": ".py",
   "mimetype": "text/x-python",
   "name": "python",
   "nbconvert_exporter": "python",
   "pygments_lexer": "ipython3",
   "version": "3.6.4"
  }
 },
 "nbformat": 4,
 "nbformat_minor": 2
}
