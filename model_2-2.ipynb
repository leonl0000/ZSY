{
 "cells": [
  {
   "cell_type": "code",
   "execution_count": 1,
   "metadata": {},
   "outputs": [
    {
     "name": "stderr",
     "output_type": "stream",
     "text": [
      "/home/ubuntu/anaconda3/envs/tensorflow_p36/lib/python3.6/site-packages/h5py/__init__.py:36: FutureWarning: Conversion of the second argument of issubdtype from `float` to `np.floating` is deprecated. In future, it will be treated as `np.float64 == np.dtype(float).type`.\n",
      "  from ._conv import register_converters as _register_converters\n",
      "/home/ubuntu/anaconda3/envs/tensorflow_p36/lib/python3.6/site-packages/matplotlib/__init__.py:962: UserWarning: Duplicate key in file \"/home/ubuntu/.config/matplotlib/matplotlibrc\", line #2\n",
      "  (fname, cnt))\n",
      "/home/ubuntu/anaconda3/envs/tensorflow_p36/lib/python3.6/site-packages/matplotlib/__init__.py:962: UserWarning: Duplicate key in file \"/home/ubuntu/.config/matplotlib/matplotlibrc\", line #3\n",
      "  (fname, cnt))\n"
     ]
    }
   ],
   "source": [
    "import model_generator as mg\n",
    "model = mg.Model([300, 400, 40, 1], 'Model_2-2', \n",
    "                 dataFilename = 'data/Model_1/T100k_QvQ.h5', r_discount=.95, c_discount=1)\n",
    "mg.saveHP(model)\n",
    "model.setData()"
   ]
  },
  {
   "cell_type": "code",
   "execution_count": 2,
   "metadata": {},
   "outputs": [
    {
     "name": "stdout",
     "output_type": "stream",
     "text": [
      "num minibatches:2650\n",
      "\tEpoch time:27 seconds\n",
      "Cost after epoch 0: 0.781478\n",
      "\tDev error (no dropout): 0.629107\n",
      "Cost after epoch 1: 0.644293\n",
      "\tDev error (no dropout): 0.613951\n",
      "Cost after epoch 2: 0.624488\n",
      "\tDev error (no dropout): 0.597822\n",
      "Cost after epoch 3: 0.611769\n",
      "\tDev error (no dropout): 0.589801\n",
      "Cost after epoch 4: 0.602383\n",
      "\tDev error (no dropout): 0.582069\n",
      "Cost after epoch 5: 0.595465\n",
      "\tDev error (no dropout): 0.576820\n",
      "Cost after epoch 6: 0.589812\n",
      "\tDev error (no dropout): 0.573498\n",
      "Cost after epoch 7: 0.585964\n",
      "\tDev error (no dropout): 0.569186\n",
      "Cost after epoch 8: 0.582217\n",
      "\tDev error (no dropout): 0.567228\n",
      "Cost after epoch 9: 0.579404\n",
      "\tDev error (no dropout): 0.567063\n",
      "\tAve epoch time: 26.526431\n",
      "\t100 epochs will take 0:44:12.643116\n",
      "Cost after epoch 10: 0.576322\n",
      "\tDev error (no dropout): 0.564685\n",
      "Parameters have been trained!\n",
      "Train cost (No dropout): 0.5505774\n",
      "Test cost (No dropout): 0.5580632\n"
     ]
    },
    {
     "data": {
      "image/png": "[encoded data removed]",
      "text/plain": [
       "<matplotlib.figure.Figure at 0x7fb98d61fe80>"
      ]
     },
     "metadata": {},
     "output_type": "display_data"
    }
   ],
   "source": [
    "model.TrainModel(num_epochs=20, learning_rate=0.0001)"
   ]
  },
  {
   "cell_type": "code",
   "execution_count": 4,
   "metadata": {},
   "outputs": [
    {
     "name": "stdout",
     "output_type": "stream",
     "text": [
      "VS Greedy: 67.200%\tVS Random: 94.400%\n",
      "Standard metric: 183.68\n"
     ]
    }
   ],
   "source": [
    "model.TestModel(500)"
   ]
  },
  {
   "cell_type": "code",
   "execution_count": 6,
   "metadata": {},
   "outputs": [
    {
     "name": "stdout",
     "output_type": "stream",
     "text": [
      "\n",
      " X_A shape:(300, 1636934)\n"
     ]
    }
   ],
   "source": [
    "import zsyMultigame as multi\n",
    "import os\n",
    "multi.simulate(model.paramFileName, os.path.join(model.home,'T_'+str(model.modelIter)+'.h5'),\n",
    "               numGames=100000, poolsize = 20)"
   ]
  }
 ],
 "metadata": {
  "kernelspec": {
   "display_name": "Environment (conda_tensorflow_p36)",
   "language": "python",
   "name": "conda_tensorflow_p36"
  },
  "language_info": {
   "codemirror_mode": {
    "name": "ipython",
    "version": 3
   },
   "file_extension": ".py",
   "mimetype": "text/x-python",
   "name": "python",
   "nbconvert_exporter": "python",
   "pygments_lexer": "ipython3",
   "version": "3.6.4"
  }
 },
 "nbformat": 4,
 "nbformat_minor": 2
}
