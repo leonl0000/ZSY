{
 "cells": [
  {
   "cell_type": "code",
   "execution_count": 1,
   "metadata": {},
   "outputs": [
    {
     "name": "stderr",
     "output_type": "stream",
     "text": [
      "/home/ubuntu/anaconda3/envs/tensorflow_p36/lib/python3.6/site-packages/h5py/__init__.py:36: FutureWarning: Conversion of the second argument of issubdtype from `float` to `np.floating` is deprecated. In future, it will be treated as `np.float64 == np.dtype(float).type`.\n",
      "  from ._conv import register_converters as _register_converters\n",
      "/home/ubuntu/anaconda3/envs/tensorflow_p36/lib/python3.6/site-packages/matplotlib/__init__.py:962: UserWarning: Duplicate key in file \"/home/ubuntu/.config/matplotlib/matplotlibrc\", line #2\n",
      "  (fname, cnt))\n",
      "/home/ubuntu/anaconda3/envs/tensorflow_p36/lib/python3.6/site-packages/matplotlib/__init__.py:962: UserWarning: Duplicate key in file \"/home/ubuntu/.config/matplotlib/matplotlibrc\", line #3\n",
      "  (fname, cnt))\n"
     ]
    }
   ],
   "source": [
    "import model_generator as mg\n",
    "model = mg.Model([300, 400, 40, 1], 'Model_2-2', \n",
    "                 dataFilename = 'Model_2-2/T_1.h5', \n",
    "                 paramFileName = 'Model_2-2/params_Model_2-2_1.pkl', r_discount=.95, c_discount=1)\n",
    "mg.saveHP(model)\n",
    "model.setData()"
   ]
  },
  {
   "cell_type": "code",
   "execution_count": 3,
   "metadata": {},
   "outputs": [
    {
     "name": "stdout",
     "output_type": "stream",
     "text": [
      "num minibatches:1543\n",
      "\tEpoch time:38 seconds\n",
      "Cost after epoch 0: 0.839809\n",
      "\tDev error (no dropout): 0.822978\n",
      "Cost after epoch 1: 0.810543\n",
      "\tDev error (no dropout): 0.813449\n",
      "Cost after epoch 2: 0.799267\n",
      "\tDev error (no dropout): 0.806375\n",
      "Cost after epoch 3: 0.791714\n",
      "\tDev error (no dropout): 0.798509\n",
      "Cost after epoch 4: 0.785381\n",
      "\tDev error (no dropout): 0.794857\n",
      "Cost after epoch 5: 0.780509\n",
      "\tDev error (no dropout): 0.794298\n",
      "Cost after epoch 6: 0.776591\n",
      "\tDev error (no dropout): 0.790979\n",
      "Cost after epoch 7: 0.773482\n",
      "\tDev error (no dropout): 0.787687\n",
      "Cost after epoch 8: 0.769654\n",
      "\tDev error (no dropout): 0.786811\n",
      "Cost after epoch 9: 0.766850\n",
      "\tDev error (no dropout): 0.784420\n",
      "\tAve epoch time: 38.786645\n",
      "\t100 epochs will take 1:04:38.664482\n",
      "Cost after epoch 10: 0.764674\n",
      "\tDev error (no dropout): 0.783925\n",
      "Cost after epoch 20: 0.746301\n",
      "\tDev error (no dropout): 0.774364\n",
      "Parameters have been trained!\n",
      "Train cost (No dropout): 0.7178913\n",
      "Test cost (No dropout): 0.7721919\n"
     ]
    },
    {
     "data": {
      "image/png": "[encoded data removed]",
      "text/plain": [
       "<matplotlib.figure.Figure at 0x7f5980422ef0>"
      ]
     },
     "metadata": {},
     "output_type": "display_data"
    }
   ],
   "source": [
    "model.TrainModel(num_epochs=30, minibatch_size=2048, learning_rate=0.0001)"
   ]
  },
  {
   "cell_type": "code",
   "execution_count": 4,
   "metadata": {},
   "outputs": [
    {
     "name": "stdout",
     "output_type": "stream",
     "text": [
      "VS Greedy: 46.800%\tVS Random: 89.400%\n",
      "Standard metric: 563.92\n"
     ]
    }
   ],
   "source": [
    "model.TestModel(500)"
   ]
  },
  {
   "cell_type": "code",
   "execution_count": 9,
   "metadata": {},
   "outputs": [],
   "source": [
    "p = mg.pklLoad(model.paramFileName)\n",
    "import numpy as np"
   ]
  },
  {
   "cell_type": "code",
   "execution_count": 20,
   "metadata": {},
   "outputs": [
    {
     "data": {
      "text/plain": [
       "array([[ 1.6146513, -1.5088112, -1.4751956, -1.7045474, -1.4268839,\n",
       "        -1.6427368, -1.7521966, -1.4814028, -1.6158991,  1.4430164,\n",
       "        -1.8261738, -1.4729614,  1.5598358,  1.4993092,  1.6096647,\n",
       "        -1.6966776, -1.5191231, -1.5286286,  1.4988999, -1.6572967,\n",
       "         1.427395 ,  0.9682433, -1.5015846,  1.4499159, -1.4994628,\n",
       "         1.7485956, -1.4326811,  1.6607947,  1.5809765,  1.576728 ,\n",
       "         1.6267295, -1.555335 , -1.6386038,  1.6677747,  1.6505574,\n",
       "         1.4938526,  1.510348 ,  1.493947 ,  1.5833873,  1.3549125]],\n",
       "      dtype=float32)"
      ]
     },
     "execution_count": 20,
     "metadata": {},
     "output_type": "execute_result"
    }
   ],
   "source": [
    "p['W3']"
   ]
  },
  {
   "cell_type": "code",
   "execution_count": 5,
   "metadata": {},
   "outputs": [
    {
     "name": "stdout",
     "output_type": "stream",
     "text": [
      "\n",
      " X_A shape:(300, 1586149)\n"
     ]
    }
   ],
   "source": [
    "import zsyMultigame as multi\n",
    "import os\n",
    "multi.simulate(model.paramFileName, os.path.join(model.home,'T_'+str(model.modelIter)+'.h5'),\n",
    "               numGames=100000, poolsize = 20)"
   ]
  }
 ],
 "metadata": {
  "kernelspec": {
   "display_name": "Environment (conda_tensorflow_p36)",
   "language": "python",
   "name": "conda_tensorflow_p36"
  },
  "language_info": {
   "codemirror_mode": {
    "name": "ipython",
    "version": 3
   },
   "file_extension": ".py",
   "mimetype": "text/x-python",
   "name": "python",
   "nbconvert_exporter": "python",
   "pygments_lexer": "ipython3",
   "version": "3.6.4"
  }
 },
 "nbformat": 4,
 "nbformat_minor": 2
}
