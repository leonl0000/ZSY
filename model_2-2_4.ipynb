{
 "cells": [
  {
   "cell_type": "code",
   "execution_count": 1,
   "metadata": {},
   "outputs": [
    {
     "name": "stderr",
     "output_type": "stream",
     "text": [
      "/home/ubuntu/anaconda3/envs/tensorflow_p36/lib/python3.6/site-packages/h5py/__init__.py:36: FutureWarning: Conversion of the second argument of issubdtype from `float` to `np.floating` is deprecated. In future, it will be treated as `np.float64 == np.dtype(float).type`.\n",
      "  from ._conv import register_converters as _register_converters\n",
      "/home/ubuntu/anaconda3/envs/tensorflow_p36/lib/python3.6/site-packages/matplotlib/__init__.py:962: UserWarning: Duplicate key in file \"/home/ubuntu/.config/matplotlib/matplotlibrc\", line #2\n",
      "  (fname, cnt))\n",
      "/home/ubuntu/anaconda3/envs/tensorflow_p36/lib/python3.6/site-packages/matplotlib/__init__.py:962: UserWarning: Duplicate key in file \"/home/ubuntu/.config/matplotlib/matplotlibrc\", line #3\n",
      "  (fname, cnt))\n"
     ]
    }
   ],
   "source": [
    "import model_generator as mg\n",
    "model = mg.Model([300, 400, 40, 1], 'Model_2-2', \n",
    "                 dataFilename = 'Model_2-2/T_3.h5', \n",
    "                 paramFileName = 'Model_2-2/params_Model_2-2_3.pkl', r_discount=.95, c_discount=1)\n",
    "mg.saveHP(model)\n",
    "model.setData()"
   ]
  },
  {
   "cell_type": "code",
   "execution_count": 2,
   "metadata": {},
   "outputs": [
    {
     "name": "stdout",
     "output_type": "stream",
     "text": [
      "num minibatches:1483\n",
      "\tEpoch time:38 seconds\n",
      "Cost after epoch 0: 0.768922\n",
      "\tDev error (no dropout): 0.709945\n",
      "Cost after epoch 1: 0.752706\n",
      "\tDev error (no dropout): 0.706571\n",
      "Cost after epoch 2: 0.746504\n",
      "\tDev error (no dropout): 0.701204\n",
      "Cost after epoch 3: 0.741518\n",
      "\tDev error (no dropout): 0.698474\n",
      "Cost after epoch 4: 0.737687\n",
      "\tDev error (no dropout): 0.696403\n",
      "Cost after epoch 5: 0.735419\n",
      "\tDev error (no dropout): 0.695058\n",
      "Cost after epoch 6: 0.731815\n",
      "\tDev error (no dropout): 0.693065\n",
      "Cost after epoch 7: 0.729140\n",
      "\tDev error (no dropout): 0.694548\n",
      "Cost after epoch 8: 0.726592\n",
      "\tDev error (no dropout): 0.694730\n",
      "Cost after epoch 9: 0.724658\n",
      "\tDev error (no dropout): 0.688819\n",
      "\tAve epoch time: 22.696652\n",
      "\t100 epochs will take 0:37:49.665220\n",
      "Cost after epoch 10: 0.722979\n",
      "\tDev error (no dropout): 0.689890\n",
      "Cost after epoch 20: 0.709462\n",
      "\tDev error (no dropout): 0.682650\n",
      "Parameters have been trained!\n",
      "Train cost (No dropout): 0.680707\n",
      "Test cost (No dropout): 0.6811251\n"
     ]
    },
    {
     "data": {
      "image/png": "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\n",
      "text/plain": [
       "<matplotlib.figure.Figure at 0x7f4bad774710>"
      ]
     },
     "metadata": {},
     "output_type": "display_data"
    }
   ],
   "source": [
    "model.TrainModel(num_epochs=30, minibatch_size=2048, learning_rate=0.0001)"
   ]
  },
  {
   "cell_type": "code",
   "execution_count": 30,
   "metadata": {},
   "outputs": [
    {
     "name": "stdout",
     "output_type": "stream",
     "text": [
      "VS Greedy: 64.405%\tVS Random: 94.485%\n",
      "Standard metric: 196.31\n"
     ]
    }
   ],
   "source": [
    "model.TestModel(20000)"
   ]
  },
  {
   "cell_type": "code",
<<<<<<< HEAD
   "execution_count": 2,
   "metadata": {},
   "outputs": [
    {
     "name": "stdout",
     "output_type": "stream",
     "text": [
      "\n",
      " X_A shape:(300, 1638813)\n"
     ]
    }
   ],
=======
   "execution_count": 6,
   "metadata": {},
   "outputs": [
    {
     "data": {
      "text/plain": [
       "0"
      ]
     },
     "execution_count": 6,
     "metadata": {},
     "output_type": "execute_result"
    }
   ],
   "source": [
    "c = \"python zsyMultigameHelper.py \" + model.paramFileName + \" temp0.h5 100 .1\"\n",
    "import os\n",
    "os.system(c)"
   ]
  },
  {
   "cell_type": "code",
   "execution_count": 9,
   "metadata": {},
   "outputs": [
    {
     "data": {
      "text/plain": [
       "<module 'zsyMultigame' from '/home/ubuntu/zsy/zsyMultigame.py'>"
      ]
     },
     "execution_count": 9,
     "metadata": {},
     "output_type": "execute_result"
    }
   ],
   "source": [
    "mg.reload(multi)"
   ]
  },
  {
   "cell_type": "code",
   "execution_count": null,
   "metadata": {},
   "outputs": [],
>>>>>>> 22dfd60da0b1bc1aae264e750ffe7e7b9dd043ea
   "source": [
    "import zsyMultigame as multi\n",
    "import os\n",
    "multi.simulate('Model_2-2/params_Model_2-2_4.pkl', os.path.join('Model_2-2','T_'+str(4)+'.h5'),\n",
    "               numGames=100000, poolsize = 20)"
   ]
  }
 ],
 "metadata": {
  "kernelspec": {
   "display_name": "Environment (conda_tensorflow_p36)",
   "language": "python",
   "name": "conda_tensorflow_p36"
  },
  "language_info": {
   "codemirror_mode": {
    "name": "ipython",
    "version": 3
   },
   "file_extension": ".py",
   "mimetype": "text/x-python",
   "name": "python",
   "nbconvert_exporter": "python",
   "pygments_lexer": "ipython3",
   "version": "3.6.4"
  }
 },
 "nbformat": 4,
 "nbformat_minor": 2
}
