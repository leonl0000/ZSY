{
 "cells": [
  {
   "cell_type": "code",
   "execution_count": 1,
   "metadata": {},
   "outputs": [
    {
     "name": "stderr",
     "output_type": "stream",
     "text": [
      "/home/ubuntu/anaconda3/envs/tensorflow_p36/lib/python3.6/site-packages/h5py/__init__.py:36: FutureWarning: Conversion of the second argument of issubdtype from `float` to `np.floating` is deprecated. In future, it will be treated as `np.float64 == np.dtype(float).type`.\n",
      "  from ._conv import register_converters as _register_converters\n",
      "/home/ubuntu/anaconda3/envs/tensorflow_p36/lib/python3.6/site-packages/matplotlib/__init__.py:962: UserWarning: Duplicate key in file \"/home/ubuntu/.config/matplotlib/matplotlibrc\", line #2\n",
      "  (fname, cnt))\n",
      "/home/ubuntu/anaconda3/envs/tensorflow_p36/lib/python3.6/site-packages/matplotlib/__init__.py:962: UserWarning: Duplicate key in file \"/home/ubuntu/.config/matplotlib/matplotlibrc\", line #3\n",
      "  (fname, cnt))\n"
     ]
    }
   ],
   "source": [
    "import model_generator as mg\n",
    "model = mg.Model([300, 400, 40, 1], 'Model_2-0',  r_discount=.95, c_discount=.99)\n",
    "mg.saveHP(model)\n",
    "model.setData()"
   ]
  },
  {
   "cell_type": "code",
   "execution_count": 2,
   "metadata": {},
   "outputs": [
    {
     "name": "stdout",
     "output_type": "stream",
     "text": [
      "num minibatches:3662\n",
      "\tEpoch time:37 seconds\n",
      "Cost after epoch 0: 0.774336\n",
      "\tDev error (no dropout): 0.692408\n",
      "Cost after epoch 1: 0.690412\n",
      "\tDev error (no dropout): 0.678869\n",
      "Cost after epoch 2: 0.676701\n",
      "\tDev error (no dropout): 0.670645\n",
      "Cost after epoch 3: 0.668544\n",
      "\tDev error (no dropout): 0.665694\n",
      "Cost after epoch 4: 0.662730\n",
      "\tDev error (no dropout): 0.661543\n",
      "Cost after epoch 5: 0.658313\n",
      "\tDev error (no dropout): 0.658748\n",
      "Cost after epoch 6: 0.654607\n",
      "\tDev error (no dropout): 0.658014\n",
      "Cost after epoch 7: 0.651704\n",
      "\tDev error (no dropout): 0.655487\n",
      "Cost after epoch 8: 0.649158\n",
      "\tDev error (no dropout): 0.655867\n",
      "Cost after epoch 9: 0.647246\n",
      "\tDev error (no dropout): 0.653992\n",
      "\tAve epoch time: 36.203566\n",
      "\t100 epochs will take 1:00:20.356634\n",
      "Cost after epoch 10: 0.645720\n",
      "\tDev error (no dropout): 0.652714\n",
      "Cost after epoch 20: 0.634486\n",
      "\tDev error (no dropout): 0.652391\n",
      "Cost after epoch 30: 0.627892\n",
      "\tDev error (no dropout): 0.651705\n",
      "Cost after epoch 40: 0.623709\n",
      "\tDev error (no dropout): 0.652934\n",
      "Parameters have been trained!\n",
      "Train cost (No dropout): 0.60834557\n",
      "Test cost (No dropout): 0.6536268\n"
     ]
    },
    {
     "data": {
      "image/png": "[encoded data removed]",
      "text/plain": [
       "<matplotlib.figure.Figure at 0x7f28579f4a20>"
      ]
     },
     "metadata": {},
     "output_type": "display_data"
    }
   ],
   "source": [
    "model.TrainModel(num_epochs=50, learning_rate=0.0001)"
   ]
  },
  {
   "cell_type": "code",
   "execution_count": 3,
   "metadata": {},
   "outputs": [
    {
     "name": "stdout",
     "output_type": "stream",
     "text": [
      "VS Greedy: 49.250%\tVS Random: 87.360%\n",
      "Standard metric: 641.48\n"
     ]
    }
   ],
   "source": [
    "model.TestModel(10000)"
   ]
  },
  {
   "cell_type": "code",
   "execution_count": 4,
   "metadata": {},
   "outputs": [
    {
     "name": "stdout",
     "output_type": "stream",
     "text": [
      "Simulating...\n",
      "Converting...\n",
      "Saving...\n",
      "done.\n"
     ]
    }
   ],
   "source": [
    "model.GenerateTrainingData()"
   ]
  }
 ],
 "metadata": {
  "kernelspec": {
   "display_name": "Environment (conda_tensorflow_p36)",
   "language": "python",
   "name": "conda_tensorflow_p36"
  },
  "language_info": {
   "codemirror_mode": {
    "name": "ipython",
    "version": 3
   },
   "file_extension": ".py",
   "mimetype": "text/x-python",
   "name": "python",
   "nbconvert_exporter": "python",
   "pygments_lexer": "ipython3",
   "version": "3.6.4"
  }
 },
 "nbformat": 4,
 "nbformat_minor": 2
}
