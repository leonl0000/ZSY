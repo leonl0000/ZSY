{
 "cells": [
  {
   "cell_type": "code",
   "execution_count": 1,
   "metadata": {},
   "outputs": [
    {
     "name": "stderr",
     "output_type": "stream",
     "text": [
      "/home/ubuntu/anaconda3/envs/tensorflow_p36/lib/python3.6/site-packages/h5py/__init__.py:36: FutureWarning: Conversion of the second argument of issubdtype from `float` to `np.floating` is deprecated. In future, it will be treated as `np.float64 == np.dtype(float).type`.\n",
      "  from ._conv import register_converters as _register_converters\n",
      "/home/ubuntu/anaconda3/envs/tensorflow_p36/lib/python3.6/site-packages/matplotlib/__init__.py:962: UserWarning: Duplicate key in file \"/home/ubuntu/.config/matplotlib/matplotlibrc\", line #2\n",
      "  (fname, cnt))\n",
      "/home/ubuntu/anaconda3/envs/tensorflow_p36/lib/python3.6/site-packages/matplotlib/__init__.py:962: UserWarning: Duplicate key in file \"/home/ubuntu/.config/matplotlib/matplotlibrc\", line #3\n",
      "  (fname, cnt))\n"
     ]
    }
   ],
   "source": [
    "import model_generator as mg\n",
    "model = mg.Model([300, 100, 100, 40, 1], 'Model2',  r_discount=.95, c_discount=.95)\n",
    "mg.saveHP(model)\n",
    "model.setData()"
   ]
  },
  {
   "cell_type": "code",
   "execution_count": null,
   "metadata": {},
   "outputs": [
    {
     "name": "stdout",
     "output_type": "stream",
     "text": [
      "num minibatches:3662\n",
      "\tEpoch time:31 seconds\n",
      "Cost after epoch 0: 0.514610\n",
      "\tDev error (no dropout): 0.479675\n",
      "Cost after epoch 1: 0.483989\n",
      "\tDev error (no dropout): 0.472676\n",
      "Cost after epoch 2: 0.481496\n",
      "\tDev error (no dropout): 0.479311\n",
      "Cost after epoch 3: 0.480100\n",
      "\tDev error (no dropout): 0.468180\n",
      "Cost after epoch 4: 0.480489\n",
      "\tDev error (no dropout): 0.487418\n",
      "Cost after epoch 5: 0.480180\n",
      "\tDev error (no dropout): 0.470898\n",
      "Cost after epoch 6: 0.479128\n",
      "\tDev error (no dropout): 0.483782\n",
      "Cost after epoch 7: 0.480193\n",
      "\tDev error (no dropout): 0.467892\n",
      "Cost after epoch 8: 0.480687\n",
      "\tDev error (no dropout): 0.466264\n",
      "Cost after epoch 9: 0.482274\n",
      "\tDev error (no dropout): 0.466837\n",
      "\tAve epoch time: 31.101190\n",
      "\t100 epochs will take 0:51:50.118999\n",
      "Cost after epoch 10: 0.485920\n",
      "\tDev error (no dropout): 0.471154\n"
     ]
    }
   ],
   "source": [
    "model.TrainModel(num_epochs=100, learning_rate=0.001)"
   ]
  },
  {
   "cell_type": "code",
   "execution_count": null,
   "metadata": {},
   "outputs": [],
   "source": [
    "model.X_Dev.shape"
   ]
  },
  {
   "cell_type": "code",
   "execution_count": null,
   "metadata": {},
   "outputs": [],
   "source": [
    "mg.tf.get_default_graph().get_operations()"
   ]
  }
 ],
 "metadata": {
  "kernelspec": {
   "display_name": "Environment (conda_tensorflow_p36)",
   "language": "python",
   "name": "conda_tensorflow_p36"
  },
  "language_info": {
   "codemirror_mode": {
    "name": "ipython",
    "version": 3
   },
   "file_extension": ".py",
   "mimetype": "text/x-python",
   "name": "python",
   "nbconvert_exporter": "python",
   "pygments_lexer": "ipython3",
   "version": "3.6.4"
  }
 },
 "nbformat": 4,
 "nbformat_minor": 2
}
